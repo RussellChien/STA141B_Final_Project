{
 "cells": [
  {
   "cell_type": "markdown",
   "id": "dccdb0cd",
   "metadata": {},
   "source": [
    "Question: Is there a correlation between a users reddit Karma and the likelihood that they would post to r/depression. \n",
    "\n",
    "Assumption: People with a higher reddit karma will be more likely to post on r/depression than users with a lower karma.\n",
    "\n",
    "Metholody: So to test our assumption we get the top 10 posts of the week or maybe top 50 posts if my computer will allow it. Then we take the average karma of each subreddit, and if our assumption is correct r/depression and r/anxiety should have the highest reddit karma, because a high reddit karma correlates with a higher screen time.\n"
   ]
  },
  {
   "cell_type": "code",
   "execution_count": 12,
   "id": "2230ba93",
   "metadata": {},
   "outputs": [
    {
     "name": "stderr",
     "output_type": "stream",
     "text": [
      "/var/folders/m9/1yz_lqls7mb0b1hr3kbkr81w0000gn/T/ipykernel_3358/600681682.py:9: DeprecationWarning: Positional arguments for 'BaseListingMixin.top' will no longer be supported in PRAW 8.\n",
      "Call this function with 'time_filter' as a keyword argument.\n",
      "  depression_posts = reddit.subreddit('depression').top('week', limit=4)\n"
     ]
    },
    {
     "name": "stdout",
     "output_type": "stream",
     "text": [
      "Post title: Life is too much of doing what I don't want to do in order to survive\n",
      "Author: What_I_do_45\n",
      "Author karma: 8529\n",
      "-------------\n",
      "Post title: Being mentally ill in a mentally ill family that doesn’t believe in mental illness\n",
      "Author: toiletpplunger\n",
      "Author karma: 1167\n",
      "-------------\n",
      "Post title: THERAPISTS JUST STARE AT ME\n",
      "Author: MyTerrificUsername\n",
      "Author karma: 3361\n",
      "-------------\n",
      "Post title: All my hobbies are gone\n",
      "Author: kckckcw\n",
      "Author karma: 241\n",
      "-------------\n",
      "3324.5\n"
     ]
    }
   ],
   "source": [
    "import praw\n",
    "\n",
    "# Authenticate with Reddit API using your own client ID, secret and user agent\n",
    "reddit = praw.Reddit(client_id='BXdMZ7nRNEr0kahVVNH_DQ',\n",
    "                     client_secret='efsc1ZRlVrmez8JHbQ5h9dN8UcJ68Q',\n",
    "                     user_agent='Zain Khalid')\n",
    "\n",
    "# Get the top 10 posts of the week from r/depression\n",
    "depression_posts = reddit.subreddit('depression').top('week', limit=4)\n",
    "total_karma = 0\n",
    "# Loop through each post and print out the user's karma\n",
    "for post in depression_posts:\n",
    "    print(f\"Post title: {post.title}\")\n",
    "    print(f\"Author: {post.author.name}\")\n",
    "    print(f\"Author karma: {post.author.link_karma}\")\n",
    "    print(\"-------------\")\n",
    "    total_karma = post.author.link_karma + total_karma\n",
    "avg_karma = total_karma / 4\n",
    "print(avg_karma)\n",
    "    \n",
    "    \n",
    "\n",
    "\n",
    "\n",
    "\n",
    "    \n",
    "\n"
   ]
  },
  {
   "cell_type": "markdown",
   "id": "7f11932d",
   "metadata": {},
   "source": [
    "Ok looks like our assumption was wrong instead let us take a look at average account age, preheps the reason why the. Side note let us remeber to increase limit from 4 to a higher number like 10 or 20"
   ]
  },
  {
   "cell_type": "code",
   "execution_count": 15,
   "id": "d620ed34",
   "metadata": {},
   "outputs": [
    {
     "name": "stderr",
     "output_type": "stream",
     "text": [
      "/var/folders/m9/1yz_lqls7mb0b1hr3kbkr81w0000gn/T/ipykernel_3358/3392620805.py:10: DeprecationWarning: Positional arguments for 'BaseListingMixin.top' will no longer be supported in PRAW 8.\n",
      "Call this function with 'time_filter' as a keyword argument.\n",
      "  depression_posts = reddit.subreddit('depression').top('week', limit=4)\n"
     ]
    },
    {
     "name": "stdout",
     "output_type": "stream",
     "text": [
      "Post title: Life is too much of doing what I don't want to do in order to survive\n",
      "Author: What_I_do_45\n",
      "Author karma: 8529\n",
      "Author account age: 1615 days\n",
      "-------------\n",
      "Post title: Being mentally ill in a mentally ill family that doesn’t believe in mental illness\n",
      "Author: toiletpplunger\n",
      "Author karma: 1167\n",
      "Author account age: 51 days\n",
      "-------------\n",
      "Post title: THERAPISTS JUST STARE AT ME\n",
      "Author: MyTerrificUsername\n",
      "Author karma: 3361\n",
      "Author account age: 1123 days\n",
      "-------------\n",
      "Post title: All my hobbies are gone\n",
      "Author: kckckcw\n",
      "Author karma: 241\n",
      "Author account age: 8 days\n",
      "-------------\n",
      "Average Karma: 3324.5 Points\n",
      "Average account age: 699.25 days\n"
     ]
    }
   ],
   "source": [
    "import praw\n",
    "from datetime import datetime\n",
    "\n",
    "# Authenticate with Reddit API using your own client ID, secret and user agent\n",
    "reddit = praw.Reddit(client_id='BXdMZ7nRNEr0kahVVNH_DQ',\n",
    "                     client_secret='efsc1ZRlVrmez8JHbQ5h9dN8UcJ68Q',\n",
    "                     user_agent='Zain Khalid')\n",
    "\n",
    "# Get the top 10 posts of the week from r/depression\n",
    "depression_posts = reddit.subreddit('depression').top('week', limit=4)\n",
    "\n",
    "total_age = 0\n",
    "total_karma = 0\n",
    "\n",
    "\n",
    "# Loop through each post and print out the user's karma and account age\n",
    "for post in depression_posts:\n",
    "    author = post.author\n",
    "    author_age = datetime.utcnow() - datetime.utcfromtimestamp(author.created_utc)\n",
    "    author_age_days = author_age.days\n",
    "    \n",
    "    print(f\"Post title: {post.title}\")\n",
    "    print(f\"Author: {author.name}\")\n",
    "    print(f\"Author karma: {author.link_karma}\")\n",
    "    print(f\"Author account age: {author_age_days} days\")\n",
    "    print(\"-------------\")\n",
    "    total_age = author_age_days + total_age\n",
    "    total_karma = post.author.link_karma + total_karma\n",
    "    \n",
    "    \n",
    "avg_karma = total_karma / 4\n",
    "print(f\"Average Karma: {avg_karma} Points\")\n",
    "avg_age = total_age / 4\n",
    "print(f\"Average account age: {avg_age} days\")\n",
    "\n",
    "\n",
    "\n",
    "\n",
    "\n",
    "\n"
   ]
  },
  {
   "cell_type": "markdown",
   "id": "db7093b9",
   "metadata": {},
   "source": [
    "Looksl ike my assumption is correct, next step is to get 10 other subreddits of similar sizes and do some anaylsis "
   ]
  }
 ],
 "metadata": {
  "kernelspec": {
   "display_name": "Python 3 (ipykernel)",
   "language": "python",
   "name": "python3"
  },
  "language_info": {
   "codemirror_mode": {
    "name": "ipython",
    "version": 3
   },
   "file_extension": ".py",
   "mimetype": "text/x-python",
   "name": "python",
   "nbconvert_exporter": "python",
   "pygments_lexer": "ipython3",
   "version": "3.9.13"
  }
 },
 "nbformat": 4,
 "nbformat_minor": 5
}
