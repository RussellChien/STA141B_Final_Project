{
 "cells": [
  {
   "cell_type": "markdown",
   "id": "5b8a8867",
   "metadata": {},
   "source": [
    "Using the twitter API get a random sample of hopefully 1,000 users who tweeted a keyword like \"Depression\". Then once I get the random sample we could do anaylsis on the type of people who tweet depressing thigns, for example one idea I had was to see how social media effects different age groups. Like if you are younger are you more likely to tweet something negative vs later. We could also expand this by doing anaylsis of  location but that might be to ambitious.\n",
    "\n",
    "Problems: No key lol"
   ]
  },
  {
   "cell_type": "code",
   "execution_count": null,
   "id": "e5eaa7d0",
   "metadata": {},
   "outputs": [],
   "source": [
    "import tweepy\n",
    "import random\n",
    "\n",
    "# set up authentication\n",
    "consumer_key = 'your_consumer_key'\n",
    "consumer_secret = 'your_consumer_secret'\n",
    "access_token = 'your_access_token'\n",
    "access_token_secret = 'your_access_token_secret'\n",
    "\n",
    "auth = tweepy.OAuthHandler(consumer_key, consumer_secret)\n",
    "auth.set_access_token(access_token, access_token_secret)\n",
    "\n",
    "# create API object\n",
    "api = tweepy.API(auth)\n",
    "\n",
    "# search for tweets containing \"Depressed\" and retrieve 100 random users from those tweets\n",
    "tweets = ai.search_tweets(q='Depressed', lang='en', count=100)\n",
    "users = random.sample([tweet.user for tweet in tweets], 100)\n",
    "\n",
    "# get user information for each user\n",
    "for user in users:\n",
    "    user_info = api.get_user(user.id_str)\n",
    "    print(user_info.screen_name, user_info.name, user_info.location, user_info.description)\n",
    "\n",
    "\n"
   ]
  },
  {
   "cell_type": "markdown",
   "id": "52f6096e",
   "metadata": {},
   "source": [
    "Next idea using the twitter API, try to find the correlation between number of tweets and the likelihood they would say something like depressed or other negative key words. Havent coded this yet cuz twitter hasnt given me my snuffing key yet"
   ]
  },
  {
   "cell_type": "code",
   "execution_count": null,
   "id": "6c9d9766",
   "metadata": {},
   "outputs": [],
   "source": []
  }
 ],
 "metadata": {
  "kernelspec": {
   "display_name": "Python 3 (ipykernel)",
   "language": "python",
   "name": "python3"
  },
  "language_info": {
   "codemirror_mode": {
    "name": "ipython",
    "version": 3
   },
   "file_extension": ".py",
   "mimetype": "text/x-python",
   "name": "python",
   "nbconvert_exporter": "python",
   "pygments_lexer": "ipython3",
   "version": "3.9.13"
  }
 },
 "nbformat": 4,
 "nbformat_minor": 5
}
