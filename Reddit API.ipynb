{
 "cells": [
  {
   "cell_type": "markdown",
   "id": "faec6ce3",
   "metadata": {},
   "source": [
    "Using the reddit API try to find the correlation between two subreddits, like is a user from r/depression also going to be a user from r/anime.\n",
    "\n",
    "Problems: I am not sure but I think we can not make a pivot column between subreddit to subreddit, so my plan B is below"
   ]
  },
  {
   "cell_type": "code",
   "execution_count": null,
   "id": "4cccbc8b",
   "metadata": {},
   "outputs": [],
   "source": [
    "import praw\n",
    "import pandas as pd\n",
    "from scipy.stats import pearsonr\n",
    "\n",
    "# Create a Reddit instance\n",
    "reddit = praw.Reddit(client_id='BXdMZ7nRNEr0kahVVNH_DQ',\n",
    "                     client_secret='efsc1ZRlVrmez8JHbQ5h9dN8UcJ68Q',\n",
    "                     user_agent='Zain Khalid')\n",
    "\n",
    "# Define subreddits to analyze\n",
    "subreddits = ['anime', 'depression']\n",
    "\n",
    "# Get top 1000 posts from each subreddit\n",
    "posts = []\n",
    "for subreddit in subreddits:\n",
    "    subreddit_posts = reddit.subreddit(subreddit).top(limit=10)\n",
    "    for post in subreddit_posts:\n",
    "        posts.append([post.id, post.title, post.score, post.subreddit, post.url, post.num_comments, post.created_utc])\n",
    "\n",
    "# Convert posts into a pandas DataFrame\n",
    "df = pd.DataFrame(posts, columns=['id', 'title', 'score', 'subreddit', 'url', 'num_comments', 'created_utc'])\n",
    "\n",
    "# Pivot table to get number of posts per day for each subreddit\n",
    "pivot_table = pd.pivot_table(df, values='id', index='created_utc', columns='subreddit', aggfunc='count')\n",
    "\n",
    "# Calculate correlation between subreddits\n",
    "corr, _ = pearsonr(pivot_table['anime'], pivot_table['depression'])\n",
    "print(f'Correlation between r/anime and r/depression: {corr:.2f}')\n",
    "\n",
    "#some politics communities too"
   ]
  },
  {
   "cell_type": "markdown",
   "id": "09000fdb",
   "metadata": {},
   "source": [
    "Just in case the code above doesnt work the next thing we can do, is to do this manually using contirbuttor limit we can count the amount of users who contributed to both r/anime and r/depression. We can expand this by just changing r/anime to another community i was thinking of doing this 10 times with 10 different communtiies to see what community has the most overlap\n",
    "\n",
    "Problems: Long ass run time"
   ]
  },
  {
   "cell_type": "code",
   "execution_count": null,
   "id": "1e7a8ebf",
   "metadata": {},
   "outputs": [],
   "source": [
    "import praw\n",
    "\n",
    "reddit = praw.Reddit(client_id='BXdMZ7nRNEr0kahVVNH_DQ',\n",
    "                     client_secret='efsc1ZRlVrmez8JHbQ5h9dN8UcJ68Q',\n",
    "                     user_agent='Zain Khalid')\n",
    "\n",
    "# Define subreddits to analyze\n",
    "subreddit1 = reddit.subreddit('anime')\n",
    "subreddit2 = reddit.subreddit('depression')\n",
    "\n",
    "# Get recent contributors for each subreddit\n",
    "contributors1 = set()\n",
    "for submission in subreddit1.new(limit=100):\n",
    "    contributors1.add(submission.author)\n",
    "    submission.comments.replace_more(limit=None)\n",
    "    for comment in submission.comments.list():\n",
    "        contributors1.add(comment.author)\n",
    "\n",
    "contributors2 = set()\n",
    "for submission in subreddit2.new(limit=100):\n",
    "    contributors2.add(submission.author)\n",
    "    submission.comments.replace_more(limit=None)\n",
    "    for comment in submission.comments.list():\n",
    "        contributors2.add(comment.author)\n",
    "\n",
    "# Get the number of users who have contributed to both subreddits\n",
    "common_contributors = len(contributors1 & contributors2)\n",
    "\n",
    "print(f\"{common_contributors} users have contributed to both r/anime and r/depression.\")\n",
    "\n"
   ]
  },
  {
   "cell_type": "markdown",
   "id": "2964e80a",
   "metadata": {},
   "source": [
    "Create a dataframe of the karma of each users post in r/depression, we will add other communities to the pivot table. The question we want to answer is does the higher karma a user have is that a good indicator of the likelihood of them being subscribed to r/depression. Basically since there is no way to track screentime of the user the next best thing is to see if karma which is just a something that tracks how much a person comments on each post i blah blah"
   ]
  },
  {
   "cell_type": "code",
   "execution_count": null,
   "id": "424527f7",
   "metadata": {},
   "outputs": [],
   "source": [
    "import praw\n",
    "import pandas as pd\n",
    "\n",
    "reddit = praw.Reddit(client_id='BXdMZ7nRNEr0kahVVNH_DQ',\n",
    "                     client_secret='efsc1ZRlVrmez8JHbQ5h9dN8UcJ68Q',\n",
    "                     user_agent='Zain Khalid')\n",
    "\n",
    "# specify the subreddit we want to analyze\n",
    "subreddit = reddit.subreddit(\"depression\")\n",
    "\n",
    "# fetch the top 100 posts from the past week\n",
    "posts = subreddit.top(\"week\", limit=100)\n",
    "\n",
    "# create an empty list to store post information\n",
    "post_info = []\n",
    "\n",
    "# loop through each post and extract relevant information\n",
    "for post in posts:\n",
    "    if post.author is not None:\n",
    "        post_info.append({\n",
    "            \"User\": post.author.name,\n",
    "            \"Score\": post.score,\n",
    "            \"Title\": post.title,\n",
    "            \"Created\": post.created_utc,\n",
    "        })\n",
    "\n",
    "# create a pandas dataframe from the list of post information\n",
    "df = pd.DataFrame(post_info)\n",
    "\n",
    "# print the dataframe\n",
    "print(df)\n",
    "\n"
   ]
  },
  {
   "cell_type": "markdown",
   "id": "322dd816",
   "metadata": {},
   "source": [
    "I found the average in the code lol "
   ]
  },
  {
   "cell_type": "code",
   "execution_count": null,
   "id": "925af888",
   "metadata": {},
   "outputs": [],
   "source": [
    "import praw\n",
    "\n",
    "reddit = praw.Reddit(client_id='BXdMZ7nRNEr0kahVVNH_DQ',\n",
    "                     client_secret='efsc1ZRlVrmez8JHbQ5h9dN8UcJ68Q',\n",
    "                     user_agent='Zain Khalid')\n",
    "\n",
    "# specify the subreddit we want to analyze\n",
    "subreddit = reddit.subreddit(\"depression\")\n",
    "\n",
    "# fetch the top 100 posts from the past week\n",
    "posts = subreddit.top(\"week\", limit=100)\n",
    "\n",
    "# calculate the total karma and number of posts\n",
    "total_karma = 0\n",
    "num_posts = 0\n",
    "\n",
    "for post in posts:\n",
    "    total_karma += post.score\n",
    "    num_posts += 1\n",
    "\n",
    "# calculate the average karma per post\n",
    "if num_posts > 0:\n",
    "    avg_karma = total_karma / num_posts\n",
    "    print(f\"The average karma per post on r/depression is {avg_karma:.2f}.\")\n",
    "else:\n",
    "    print(\"No posts found.\")\n",
    "\n",
    "\n"
   ]
  }
 ],
 "metadata": {
  "kernelspec": {
   "display_name": "Python 3 (ipykernel)",
   "language": "python",
   "name": "python3"
  },
  "language_info": {
   "codemirror_mode": {
    "name": "ipython",
    "version": 3
   },
   "file_extension": ".py",
   "mimetype": "text/x-python",
   "name": "python",
   "nbconvert_exporter": "python",
   "pygments_lexer": "ipython3",
   "version": "3.9.13"
  }
 },
 "nbformat": 4,
 "nbformat_minor": 5
}
