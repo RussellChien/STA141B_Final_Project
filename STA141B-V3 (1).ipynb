{
 "cells": [
  {
   "cell_type": "markdown",
   "id": "da766f89",
   "metadata": {},
   "source": [
    "## Mental Health and Social Media Consumption - STA141B Final Project\n"
   ]
  },
  {
   "cell_type": "markdown",
   "id": "848fa9fc",
   "metadata": {},
   "source": [
    "### Group members:\n",
    "    Samir Cochinwala\n",
    "    Zain Khalid\n",
    "    Sriram Subramanian\n",
    "    Russell Chien"
   ]
  },
  {
   "cell_type": "markdown",
   "id": "ddfef0ef",
   "metadata": {},
   "source": [
    "## Table of Contents"
   ]
  },
  {
   "cell_type": "markdown",
   "id": "bba6b662",
   "metadata": {},
   "source": [
    "0. Imports\n",
    "1. Introduction\n",
    "2. Cleaning Dataset\n",
    "2. Statistical Visualization\n",
    "3. NLP analysis \n",
    "4. API / Web Scraping > we can do something similar to hw4 where we filter out meaningless words and find some sort of significance through sentences\n",
    "5. Regression / KNN / random forest / and other models\n",
    "6. Conclusion / Results"
   ]
  },
  {
   "cell_type": "markdown",
   "id": "24e625f2",
   "metadata": {},
   "source": [
    "### Imports"
   ]
  },
  {
   "cell_type": "code",
   "execution_count": 2,
   "id": "89fa5f0b",
   "metadata": {},
   "outputs": [],
   "source": [
    "import matplotlib.pyplot as plt\n",
    "import seaborn as sns\n",
    "import pandas as pd\n",
    "import numpy as np\n",
    "from sklearn.model_selection import train_test_split\n",
    "from sklearn.neighbors import KNeighborsClassifier\n",
    "from sklearn.ensemble import RandomForestClassifier\n",
    "from sklearn.metrics import confusion_matrix\n",
    "from sklearn.metrics import classification_report, confusion_matrix  \n",
    "from sklearn.metrics import accuracy_score, confusion_matrix, precision_score, recall_score, ConfusionMatrixDisplay\n",
    "from sklearn.ensemble import RandomForestClassifier\n",
    "from sklearn.metrics import accuracy_score, confusion_matrix, precision_score, recall_score, ConfusionMatrixDisplay\n",
    "from sklearn.model_selection import RandomizedSearchCV, train_test_split\n",
    "from scipy.stats import randint\n",
    "\n",
    "from unittest.mock import MagicMock\n",
    "import graphviz\n",
    "from sklearn.tree import export_graphviz\n",
    "from IPython.display import Image\n"
   ]
  },
  {
   "cell_type": "markdown",
   "id": "3f687a01",
   "metadata": {},
   "source": [
    "### Introduction"
   ]
  },
  {
   "cell_type": "markdown",
   "id": "bad6b8a6",
   "metadata": {},
   "source": [
    "In 2023, you have 5 year olds who use iPhones, iPads, computers, etc. for multiple hours everyday. On top of this, being aware of your own mental health isn't particularly common. Our day to day lives consist of staring at Instagram, Facebook, Tiktok, etc. But how often do you hear about someone who journals about their feelings, for example. Our motivation behind this project came by reflecting on our daily rituals. We learned that we all woke up and checked our phones, we learned that our study breaks consisted of social media consumption. But we didn't know the impact this had on us. Although social media is a great method of obtaining information in the world, we believe it comes with effects that change your mental health. Social media consumption is extremely high relative to the past. According to: https://www.smartinsights.com/social-media-marketing/social-media-strategy/new-global-social-media-research/#:~:text=The%20number%20of%20social%20media,growth%20of%20%2B137%20million%20users there is a 10% growth YOY of global social media consumption. At first glance, you might think nothing of it, but our projects goal is to reveal the effect social media has on mental health. We will try to find the optimal amount of social media consumption per day as well as clarify the impacts social media has on ones mental health. The goal for this project is to learn about the correlation between social media and mental health and to make people of every age group aware."
   ]
  },
  {
   "cell_type": "markdown",
   "id": "f6ade662",
   "metadata": {},
   "source": [
    "### Raw Dataset Rundown"
   ]
  },
  {
   "cell_type": "markdown",
   "id": "6ccfd09e",
   "metadata": {},
   "source": [
    "The dataset below is taken from a survey during COVID-19 and was performed in numerous different cities in China. There were multiple questions asked about family relationships, levels of boredom, the epidemic, social media consumption, and mental health states. The dataset contains 917 rows with 88 columns. This meaning there were 917 people who were surveyed and each asked ~88 questions. The questions ranged from how many family members you have to how much you post on social media to how much anxiety you have, etc. By analyzing social media consumption and mental health responses we will predict what level/types of social media are healthy. "
   ]
  },
  {
   "cell_type": "markdown",
   "id": "d125fb65",
   "metadata": {},
   "source": [
    "When looking through the dataset, we can clean the data by fixing any typos and renaming columns to be more descriptive. We also combined the traditional media use and new media use into one column, tracking total media use. "
   ]
  },
  {
   "cell_type": "code",
   "execution_count": 3,
   "id": "fa71f1f4",
   "metadata": {},
   "outputs": [
    {
     "name": "stdout",
     "output_type": "stream",
     "text": [
      "   familymembers location  infection  Impact  familyreunion  \\\n",
      "0              3  Tianjin          0       4              1   \n",
      "1              4    Gansu          0       4              1   \n",
      "2              3    Hunan          0       4              1   \n",
      "3              4   Shanxi          0       3              1   \n",
      "4              4   Shanxi          0       4              1   \n",
      "\n",
      "   familyrelationship  Post  Search  boredom1  boredom2  ...  Meaning in Life  \\\n",
      "0                   5     1       2         6         6  ...               24   \n",
      "1                   4     1       4         6         6  ...               27   \n",
      "2                   4     0       4         1         1  ...               20   \n",
      "3                   4     1       4         5         5  ...               22   \n",
      "4                   4     0       4         7         7  ...               23   \n",
      "\n",
      "   Depression  Anxiety  Stress  New Media Use  Traditional Media Use  Empathy  \\\n",
      "0          10       13      15              4                      1        8   \n",
      "1           7        7       9             36                      0        8   \n",
      "2           8       10      10              2                      1        5   \n",
      "3           9       10      12              4                      1        8   \n",
      "4          10       10      15             11                      1        8   \n",
      "\n",
      "   Sympathy  Media Use  Boredom  \n",
      "0         6          5       18  \n",
      "1        10         36       18  \n",
      "2         8          3        3  \n",
      "3         8          5       14  \n",
      "4         8         12       21  \n",
      "\n",
      "[5 rows x 90 columns]\n",
      "Index(['familymembers', 'location', 'infection', 'Impact', 'familyreunion',\n",
      "       'familyrelationship', 'Post', 'Search', 'boredom1', 'boredom2',\n",
      "       'boredom3', 'Optimism', 'mediatime1', 'mediatime2', 'mediatime3',\n",
      "       'mediatime4', 'mediatime5', 'mediatimetotal', 'mediacontent1',\n",
      "       'mediacontent2', 'mediacontent3', 'mediacontent4', 'mediacontent5',\n",
      "       'mediacontent6', 'panas1', 'panas2', 'panas3', 'panas4', 'panas5',\n",
      "       'panas6', 'panas7', 'panas8', 'panas9', 'panas10', 'panas11', 'panas12',\n",
      "       'panas13', 'panas14', 'panas15', 'panas16', 'panas17', 'panas18',\n",
      "       'panas19', 'panas20', 'deathanxiety1', 'deathanxiety2', 'deathanxiety3',\n",
      "       'deathanxiety4', 'meaninginlife1', 'meaninginlife2', 'meaninginlife3',\n",
      "       'meaninginlife4', 'empathy1', 'empathy2', 'sympathy1', 'sympathy2',\n",
      "       'dass1', 'dass2', 'dass3', 'dass4', 'dass5', 'dass6', 'dass7', 'dass8',\n",
      "       'dass9', 'dass10', 'dass11', 'dass12', 'dass13', 'dass14', 'dass15',\n",
      "       'dass16', 'dass17', 'dass18', 'dass19', 'dass20', 'dass21',\n",
      "       'Positive Affect', 'Negative Affect', 'Death Anxiety',\n",
      "       'Meaning in Life', 'Depression', 'Anxiety', 'Stress', 'New Media Use',\n",
      "       'Traditional Media Use', 'Empathy', 'Sympathy', 'Media Use', 'Boredom'],\n",
      "      dtype='object')\n"
     ]
    }
   ],
   "source": [
    "\n",
    "df = pd.read_excel('/Users/samircochinwala/Downloads/sta141b_final/STA141B.xlsx')\n",
    "\n",
    "df = df.rename(columns={'familymebers': 'familymembers', 'PA': 'Positive Affect', 'NA': 'Negative Affect', 'DA': 'Death Anxiety', \n",
    "                        'ML': 'Meaning in Life', 'DEP': 'Depression', 'ANX': 'Anxiety', 'STR': 'Stress', 'NEW': 'New Media Use', \n",
    "                        'TRA': 'Traditional Media Use', 'EMP': 'Empathy', 'SYM': 'Sympathy', 'search': 'Search', \n",
    "                        'optimism': 'Optimism', 'effect': 'Impact', 'post': 'Post'})\n",
    "df['Media Use'] = df['Traditional Media Use'] + df['New Media Use']\n",
    "df['Boredom'] = df['boredom1'] + df['boredom2'] + df['boredom3']\n",
    "\n",
    "\n",
    "print(df.head())\n",
    "print(df.columns)"
   ]
  },
  {
   "cell_type": "markdown",
   "id": "fc803c3b",
   "metadata": {},
   "source": [
    "### Heatmap\n",
    "\n"
   ]
  },
  {
   "cell_type": "markdown",
   "id": "3fcd04c6",
   "metadata": {},
   "source": [
    "Using seaborn, we can create a heatmap to visualize the correlation between numeric variables in our dataset. With our heatmap, we can clearly see which variables have a high correlation with each other. Specifically, we can see that there is a high correlation between Death Anxiety and Empathy and Negative Affect and Empathy. Some other interesting observations include that those who saw a positive affect in the pandemic also scored their meaning of life questions higher. "
   ]
  },
  {
   "cell_type": "code",
   "execution_count": 4,
   "id": "784a29f8",
   "metadata": {},
   "outputs": [
    {
     "data": {
      "image/png": "[encoded data removed]",
      "text/plain": [
       "<Figure size 432x288 with 2 Axes>"
      ]
     },
     "metadata": {
      "needs_background": "light"
     },
     "output_type": "display_data"
    }
   ],
   "source": [
    "heatmap = df[['Positive Affect', 'Negative Affect', 'Death Anxiety', 'Meaning in Life', 'Depression', 'Anxiety', 'Stress', \n",
    "              'Media Use', 'Empathy', 'Sympathy', 'Search', 'Optimism', 'Impact', 'Boredom']] \n",
    "corrMatrix = heatmap.corr()\n",
    "sns.heatmap(corrMatrix, cmap=\"YlGnBu\", linewidths=.1, square=True)\n",
    "plt.show()"
   ]
  },
  {
   "cell_type": "markdown",
   "id": "aeb33ad5",
   "metadata": {},
   "source": [
    "Categorial variables: family renuion, post\n",
    "    "
   ]
  },
  {
   "cell_type": "markdown",
   "id": "9dc16c0f",
   "metadata": {},
   "source": [
    "### Scatterplot"
   ]
  },
  {
   "cell_type": "markdown",
   "id": "bf01d42c",
   "metadata": {},
   "source": [
    "We created scatterplots to look for correlation between searching social media and its positive/negative affect it had on users. There seemed to be a even distribution amongst all levels. The dominant answer to the question \"Did you actively search for updates on epidemic-related news\", was '4' (everyday), which clearly shows the importance of social media to our daily lives. People who answered '4' also had the widest range of positive/negative affect. "
   ]
  },
  {
   "cell_type": "code",
   "execution_count": 5,
   "id": "f18d5244",
   "metadata": {},
   "outputs": [
    {
     "data": {
      "text/plain": [
       "<seaborn.axisgrid.FacetGrid at 0x7f8036e15130>"
      ]
     },
     "execution_count": 5,
     "metadata": {},
     "output_type": "execute_result"
    },
    {
     "data": {
      "image/png": "[encoded data removed]",
      "text/plain": [
       "<Figure size 402.375x360 with 1 Axes>"
      ]
     },
     "metadata": {
      "needs_background": "light"
     },
     "output_type": "display_data"
    }
   ],
   "source": [
    "search_df = df[[\"Positive Affect\",\"Negative Affect\",\"Search\"]]\n",
    "sns.lmplot(x='Positive Affect', y='Negative Affect', data = search_df, hue='Search', fit_reg=False, palette=\"Set1\")"
   ]
  },
  {
   "cell_type": "markdown",
   "id": "1594d361",
   "metadata": {},
   "source": [
    "Next, we looked at the relationship between media use, negative affect, and impact COVID had on a person's life. Many people that said COVID did not have a very big impact on their life (< 3) also had higher media use and lower negative affect. While this may suggest that media use may have a positive effect, it is also possible that these people are simply prefer staying inside and do not have the need to meet with people as often. Those that said COVID did have a big impact on their life (> 3) are skewed left towards media use. The negative affect of this group is roughly evenly distributed; perhaps an increase in media use could reduce the negative affect and/or impact of people who answered that COVID did have a big impact on their life. "
   ]
  },
  {
   "cell_type": "code",
   "execution_count": 6,
   "id": "7152103b",
   "metadata": {},
   "outputs": [
    {
     "data": {
      "text/plain": [
       "<seaborn.axisgrid.FacetGrid at 0x7f8037b33310>"
      ]
     },
     "execution_count": 6,
     "metadata": {},
     "output_type": "execute_result"
    },
    {
     "data": {
      "image/png": "[encoded data removed]",
      "text/plain": [
       "<Figure size 402.375x360 with 1 Axes>"
      ]
     },
     "metadata": {
      "needs_background": "light"
     },
     "output_type": "display_data"
    }
   ],
   "source": [
    "effect_df = df[[\"Media Use\", \"Negative Affect\", \"Impact\"]]\n",
    "sns.lmplot(x='Media Use', y='Negative Affect', data = effect_df, hue='Impact', fit_reg=False, palette=\"Set2\")"
   ]
  },
  {
   "cell_type": "markdown",
   "id": "0997d53f",
   "metadata": {},
   "source": [
    "### Countplot"
   ]
  },
  {
   "cell_type": "markdown",
   "id": "2b2bd935",
   "metadata": {},
   "source": [
    "We used Seaborn countplots to visualize certain variables and their relationship with the impact of COVID on a person's life. In the first plot, it seems that posting COVID related media does not influence the impact at all. In the second plot, we can clearly see that those who were impacted greatly by COVID have an overall higher boredom. In the third plot, as the amount of searching done increases, the impact of COVID also increases. In the fourth plot, "
   ]
  },
  {
   "cell_type": "code",
   "execution_count": 7,
   "id": "77fee9f6",
   "metadata": {},
   "outputs": [
    {
     "data": {
      "text/plain": [
       "<AxesSubplot:xlabel='Optimism', ylabel='count'>"
      ]
     },
     "execution_count": 7,
     "metadata": {},
     "output_type": "execute_result"
    },
    {
     "data": {
      "image/png": "[encoded data removed]",
      "text/plain": [
       "<Figure size 1440x1080 with 4 Axes>"
      ]
     },
     "metadata": {
      "needs_background": "light"
     },
     "output_type": "display_data"
    }
   ],
   "source": [
    "fig,[[ax1, ax2],[ax3, ax4]] = plt.subplots(2,2, figsize=[20,15])\n",
    "sns.countplot(x='Post', data = df, hue='Impact', ax=ax1)\n",
    "sns.countplot(x='Boredom', data = df, hue='Impact', ax=ax2)\n",
    "sns.countplot(x='Search', data = df, hue='Impact', ax=ax3)\n",
    "sns.countplot(x='Optimism', data = df, hue='Impact', ax=ax4)"
   ]
  },
  {
   "cell_type": "markdown",
   "id": "5e105f65",
   "metadata": {},
   "source": [
    "## Models"
   ]
  },
  {
   "cell_type": "markdown",
   "id": "34d59a52",
   "metadata": {},
   "source": [
    "#### Making Training and Testing Data"
   ]
  },
  {
   "cell_type": "code",
   "execution_count": 8,
   "id": "26cd799a",
   "metadata": {},
   "outputs": [
    {
     "data": {
      "text/plain": [
       "<AxesSubplot:>"
      ]
     },
     "execution_count": 8,
     "metadata": {},
     "output_type": "execute_result"
    },
    {
     "data": {
      "image/png": "[encoded data removed]",
      "text/plain": [
       "<Figure size 432x288 with 1 Axes>"
      ]
     },
     "metadata": {
      "needs_background": "light"
     },
     "output_type": "display_data"
    }
   ],
   "source": [
    "# making train/test data \n",
    "\n",
    "features = df[['Negative Affect','Death Anxiety', 'Depression']].copy() #'Anxiety', 'Stress']].copy()\n",
    "X = features \n",
    "y = df['Media Use'].copy()\n",
    "y.plot()\n"
   ]
  },
  {
   "cell_type": "code",
   "execution_count": 9,
   "id": "539ffd5e",
   "metadata": {},
   "outputs": [],
   "source": [
    "# 0-19 = low\n",
    "# 20-39 = medium\n",
    "# 40-59 = high \n",
    "for i in range(len(y)):\n",
    "    if y[i] <= 19:\n",
    "        y[i] = 'low'\n",
    "    elif y[i] >= 20 and y[i] <= 39:\n",
    "        y[i] = 'medium'\n",
    "    else:\n",
    "        y[i] = 'high'"
   ]
  },
  {
   "cell_type": "code",
   "execution_count": 10,
   "id": "38c66ad1",
   "metadata": {},
   "outputs": [
    {
     "name": "stdout",
     "output_type": "stream",
     "text": [
      "0         low\n",
      "1      medium\n",
      "2         low\n",
      "3         low\n",
      "4         low\n",
      "        ...  \n",
      "912      high\n",
      "913       low\n",
      "914       low\n",
      "915       low\n",
      "916       low\n",
      "Name: Media Use, Length: 917, dtype: object\n"
     ]
    }
   ],
   "source": [
    "print(y)\n",
    "x_train, x_test, y_train, y_test = train_test_split(X, y, test_size=0.25, random_state=0)"
   ]
  },
  {
   "cell_type": "markdown",
   "id": "b2cd9ed8",
   "metadata": {},
   "source": [
    "### Logistic Regression Model"
   ]
  },
  {
   "cell_type": "code",
   "execution_count": 32,
   "id": "3ee2f0cd",
   "metadata": {},
   "outputs": [
    {
     "name": "stdout",
     "output_type": "stream",
     "text": [
      "logistic regression model:\n",
      "               precision    recall  f1-score   support\n",
      "\n",
      "        high       0.00      0.00      0.00        14\n",
      "         low       0.73      1.00      0.84       167\n",
      "      medium       0.00      0.00      0.00        49\n",
      "\n",
      "    accuracy                           0.73       230\n",
      "   macro avg       0.24      0.33      0.28       230\n",
      "weighted avg       0.53      0.73      0.61       230\n",
      "\n"
     ]
    },
    {
     "name": "stderr",
     "output_type": "stream",
     "text": [
      "/Library/Frameworks/Python.framework/Versions/3.8/lib/python3.8/site-packages/sklearn/metrics/_classification.py:1318: UndefinedMetricWarning: Precision and F-score are ill-defined and being set to 0.0 in labels with no predicted samples. Use `zero_division` parameter to control this behavior.\n",
      "  _warn_prf(average, modifier, msg_start, len(result))\n",
      "/Library/Frameworks/Python.framework/Versions/3.8/lib/python3.8/site-packages/sklearn/metrics/_classification.py:1318: UndefinedMetricWarning: Precision and F-score are ill-defined and being set to 0.0 in labels with no predicted samples. Use `zero_division` parameter to control this behavior.\n",
      "  _warn_prf(average, modifier, msg_start, len(result))\n",
      "/Library/Frameworks/Python.framework/Versions/3.8/lib/python3.8/site-packages/sklearn/metrics/_classification.py:1318: UndefinedMetricWarning: Precision and F-score are ill-defined and being set to 0.0 in labels with no predicted samples. Use `zero_division` parameter to control this behavior.\n",
      "  _warn_prf(average, modifier, msg_start, len(result))\n"
     ]
    },
    {
     "data": {
      "text/plain": [
       "0.7260869565217392"
      ]
     },
     "execution_count": 32,
     "metadata": {},
     "output_type": "execute_result"
    },
    {
     "data": {
      "image/png": "[encoded data removed]",
      "text/plain": [
       "<Figure size 432x288 with 2 Axes>"
      ]
     },
     "metadata": {
      "needs_background": "light"
     },
     "output_type": "display_data"
    }
   ],
   "source": [
    "from sklearn.linear_model import LogisticRegression\n",
    "\n",
    "LR = LogisticRegression()\n",
    "LR.fit(x_train, y_train)\n",
    "y_pred_LR = LR.predict(x_test)\n",
    "print('logistic regression model:\\n {}'.format(classification_report(y_test,LR_predict)))\n",
    "LR_cm = confusion_matrix(y_test, y_pred_LR)\n",
    "ConfusionMatrixDisplay(confusion_matrix=LR_cm).plot();\n",
    "accuracy_score(y_test, y_pred_LR)"
   ]
  },
  {
   "cell_type": "code",
   "execution_count": 34,
   "id": "424d5de4",
   "metadata": {},
   "outputs": [
    {
     "name": "stdout",
     "output_type": "stream",
     "text": [
      "              precision    recall  f1-score   support\n",
      "\n",
      "        high       0.00      0.00      0.00        14\n",
      "         low       0.73      1.00      0.84       167\n",
      "      medium       0.00      0.00      0.00        49\n",
      "\n",
      "    accuracy                           0.73       230\n",
      "   macro avg       0.24      0.33      0.28       230\n",
      "weighted avg       0.53      0.73      0.61       230\n",
      "\n"
     ]
    },
    {
     "name": "stderr",
     "output_type": "stream",
     "text": [
      "/Library/Frameworks/Python.framework/Versions/3.8/lib/python3.8/site-packages/sklearn/metrics/_classification.py:1318: UndefinedMetricWarning: Precision and F-score are ill-defined and being set to 0.0 in labels with no predicted samples. Use `zero_division` parameter to control this behavior.\n",
      "  _warn_prf(average, modifier, msg_start, len(result))\n",
      "/Library/Frameworks/Python.framework/Versions/3.8/lib/python3.8/site-packages/sklearn/metrics/_classification.py:1318: UndefinedMetricWarning: Precision and F-score are ill-defined and being set to 0.0 in labels with no predicted samples. Use `zero_division` parameter to control this behavior.\n",
      "  _warn_prf(average, modifier, msg_start, len(result))\n",
      "/Library/Frameworks/Python.framework/Versions/3.8/lib/python3.8/site-packages/sklearn/metrics/_classification.py:1318: UndefinedMetricWarning: Precision and F-score are ill-defined and being set to 0.0 in labels with no predicted samples. Use `zero_division` parameter to control this behavior.\n",
      "  _warn_prf(average, modifier, msg_start, len(result))\n"
     ]
    }
   ],
   "source": [
    "print(classification_report(y_test, y_pred_LR)) "
   ]
  },
  {
   "cell_type": "markdown",
   "id": "452fd525",
   "metadata": {},
   "source": [
    "### RandomForest Model/Classifier"
   ]
  },
  {
   "cell_type": "code",
   "execution_count": 26,
   "id": "eae8455a",
   "metadata": {},
   "outputs": [],
   "source": [
    "# making random forest model and training it \n",
    "clf_rf = RandomForestClassifier()\n",
    "clf_rf.fit(x_train, y_train)\n",
    "y_pred_rf = clf_rf.predict(x_test)"
   ]
  },
  {
   "cell_type": "code",
   "execution_count": 27,
   "id": "d92ac3bf",
   "metadata": {
    "scrolled": true
   },
   "outputs": [
    {
     "name": "stdout",
     "output_type": "stream",
     "text": [
      "Accuracy: 0.6347826086956522\n"
     ]
    }
   ],
   "source": [
    "# checking accuracy \n",
    "accuracy = accuracy_score(y_test, y_pred_rf)\n",
    "print(\"Accuracy:\", accuracy)\n"
   ]
  },
  {
   "cell_type": "markdown",
   "id": "80f21051",
   "metadata": {},
   "source": [
    "### Random Forest Visualization"
   ]
  },
  {
   "cell_type": "code",
   "execution_count": 28,
   "id": "6a037382",
   "metadata": {},
   "outputs": [
    {
     "data": {
      "image/svg+xml": [
       "<?xml version=\"1.0\" encoding=\"UTF-8\" standalone=\"no\"?>\n",
       "<!DOCTYPE svg PUBLIC \"-//W3C//DTD SVG 1.1//EN\"\n",
       " \"http://www.w3.org/Graphics/SVG/1.1/DTD/svg11.dtd\">\n",
       "<!-- Generated by graphviz version 7.1.0 (20230121.1956)\n",
       " -->\n",
       "<!-- Title: Tree Pages: 1 -->\n",
       "<svg width=\"728pt\" height=\"311pt\"\n",
       " viewBox=\"0.00 0.00 727.50 311.00\" xmlns=\"http://www.w3.org/2000/svg\" xmlns:xlink=\"http://www.w3.org/1999/xlink\">\n",
       "<g id=\"graph0\" class=\"graph\" transform=\"scale(1 1) rotate(0) translate(4 307)\">\n",
       "<title>Tree</title>\n",
       "<polygon fill=\"white\" stroke=\"none\" points=\"-4,4 -4,-307 723.5,-307 723.5,4 -4,4\"/>\n",
       "<!-- 0 -->\n",
       "<g id=\"node1\" class=\"node\">\n",
       "<title>0</title>\n",
       "<polygon fill=\"#7aeeaa\" stroke=\"black\" points=\"487,-303 299,-303 299,-250 487,-250 487,-303\"/>\n",
       "<text text-anchor=\"middle\" x=\"393\" y=\"-287.8\" font-family=\"Helvetica,sans-Serif\" font-size=\"14.00\">Depression &lt;= 20.5</text>\n",
       "<text text-anchor=\"middle\" x=\"393\" y=\"-272.8\" font-family=\"Helvetica,sans-Serif\" font-size=\"14.00\">samples = 100.0%</text>\n",
       "<text text-anchor=\"middle\" x=\"393\" y=\"-257.8\" font-family=\"Helvetica,sans-Serif\" font-size=\"14.00\">value = [0.061, 0.738, 0.201]</text>\n",
       "</g>\n",
       "<!-- 1 -->\n",
       "<g id=\"node2\" class=\"node\">\n",
       "<title>1</title>\n",
       "<polygon fill=\"#79edaa\" stroke=\"black\" points=\"392,-214 204,-214 204,-161 392,-161 392,-214\"/>\n",
       "<text text-anchor=\"middle\" x=\"298\" y=\"-198.8\" font-family=\"Helvetica,sans-Serif\" font-size=\"14.00\">Depression &lt;= 8.5</text>\n",
       "<text text-anchor=\"middle\" x=\"298\" y=\"-183.8\" font-family=\"Helvetica,sans-Serif\" font-size=\"14.00\">samples = 99.1%</text>\n",
       "<text text-anchor=\"middle\" x=\"298\" y=\"-168.8\" font-family=\"Helvetica,sans-Serif\" font-size=\"14.00\">value = [0.059, 0.742, 0.199]</text>\n",
       "</g>\n",
       "<!-- 0&#45;&gt;1 -->\n",
       "<g id=\"edge1\" class=\"edge\">\n",
       "<title>0&#45;&gt;1</title>\n",
       "<path fill=\"none\" stroke=\"black\" d=\"M364.75,-249.63C355.27,-240.95 344.55,-231.13 334.52,-221.94\"/>\n",
       "<polygon fill=\"black\" stroke=\"black\" points=\"337.16,-219.61 327.42,-215.44 332.43,-224.78 337.16,-219.61\"/>\n",
       "<text text-anchor=\"middle\" x=\"327.4\" y=\"-235.69\" font-family=\"Helvetica,sans-Serif\" font-size=\"14.00\">True</text>\n",
       "</g>\n",
       "<!-- 420 -->\n",
       "<g id=\"node9\" class=\"node\">\n",
       "<title>420</title>\n",
       "<polygon fill=\"#ffffff\" stroke=\"black\" points=\"568,-214 410,-214 410,-161 568,-161 568,-214\"/>\n",
       "<text text-anchor=\"middle\" x=\"489\" y=\"-198.8\" font-family=\"Helvetica,sans-Serif\" font-size=\"14.00\">Negative Affect &lt;= 19.5</text>\n",
       "<text text-anchor=\"middle\" x=\"489\" y=\"-183.8\" font-family=\"Helvetica,sans-Serif\" font-size=\"14.00\">samples = 0.9%</text>\n",
       "<text text-anchor=\"middle\" x=\"489\" y=\"-168.8\" font-family=\"Helvetica,sans-Serif\" font-size=\"14.00\">value = [0.4, 0.2, 0.4]</text>\n",
       "</g>\n",
       "<!-- 0&#45;&gt;420 -->\n",
       "<g id=\"edge8\" class=\"edge\">\n",
       "<title>0&#45;&gt;420</title>\n",
       "<path fill=\"none\" stroke=\"black\" d=\"M421.54,-249.63C431.13,-240.95 441.96,-231.13 452.1,-221.94\"/>\n",
       "<polygon fill=\"black\" stroke=\"black\" points=\"454.22,-224.74 459.28,-215.43 449.52,-219.56 454.22,-224.74\"/>\n",
       "<text text-anchor=\"middle\" x=\"459.17\" y=\"-235.69\" font-family=\"Helvetica,sans-Serif\" font-size=\"14.00\">False</text>\n",
       "</g>\n",
       "<!-- 2 -->\n",
       "<g id=\"node3\" class=\"node\">\n",
       "<title>2</title>\n",
       "<polygon fill=\"#67eb9f\" stroke=\"black\" points=\"188,-125 0,-125 0,-72 188,-72 188,-125\"/>\n",
       "<text text-anchor=\"middle\" x=\"94\" y=\"-109.8\" font-family=\"Helvetica,sans-Serif\" font-size=\"14.00\">Depression &lt;= 7.5</text>\n",
       "<text text-anchor=\"middle\" x=\"94\" y=\"-94.8\" font-family=\"Helvetica,sans-Serif\" font-size=\"14.00\">samples = 29.8%</text>\n",
       "<text text-anchor=\"middle\" x=\"94\" y=\"-79.8\" font-family=\"Helvetica,sans-Serif\" font-size=\"14.00\">value = [0.043, 0.802, 0.155]</text>\n",
       "</g>\n",
       "<!-- 1&#45;&gt;2 -->\n",
       "<g id=\"edge2\" class=\"edge\">\n",
       "<title>1&#45;&gt;2</title>\n",
       "<path fill=\"none\" stroke=\"black\" d=\"M237.07,-160.51C214.47,-150.88 188.63,-139.86 165.2,-129.86\"/>\n",
       "<polygon fill=\"black\" stroke=\"black\" points=\"166.58,-126.65 156.01,-125.94 163.83,-133.09 166.58,-126.65\"/>\n",
       "</g>\n",
       "<!-- 115 -->\n",
       "<g id=\"node6\" class=\"node\">\n",
       "<title>115</title>\n",
       "<polygon fill=\"#81eeaf\" stroke=\"black\" points=\"394,-125 206,-125 206,-72 394,-72 394,-125\"/>\n",
       "<text text-anchor=\"middle\" x=\"300\" y=\"-109.8\" font-family=\"Helvetica,sans-Serif\" font-size=\"14.00\">Depression &lt;= 10.5</text>\n",
       "<text text-anchor=\"middle\" x=\"300\" y=\"-94.8\" font-family=\"Helvetica,sans-Serif\" font-size=\"14.00\">samples = 69.3%</text>\n",
       "<text text-anchor=\"middle\" x=\"300\" y=\"-79.8\" font-family=\"Helvetica,sans-Serif\" font-size=\"14.00\">value = [0.065, 0.716, 0.219]</text>\n",
       "</g>\n",
       "<!-- 1&#45;&gt;115 -->\n",
       "<g id=\"edge5\" class=\"edge\">\n",
       "<title>1&#45;&gt;115</title>\n",
       "<path fill=\"none\" stroke=\"black\" d=\"M298.59,-160.87C298.76,-153.24 298.96,-144.72 299.15,-136.51\"/>\n",
       "<polygon fill=\"black\" stroke=\"black\" points=\"302.64,-136.84 299.37,-126.76 295.64,-136.68 302.64,-136.84\"/>\n",
       "</g>\n",
       "<!-- 3 -->\n",
       "<g id=\"node4\" class=\"node\">\n",
       "<title>3</title>\n",
       "<polygon fill=\"#c0c0c0\" stroke=\"black\" points=\"85,-36 31,-36 31,0 85,0 85,-36\"/>\n",
       "<text text-anchor=\"middle\" x=\"58\" y=\"-14.3\" font-family=\"Helvetica,sans-Serif\" font-size=\"14.00\">(...)</text>\n",
       "</g>\n",
       "<!-- 2&#45;&gt;3 -->\n",
       "<g id=\"edge3\" class=\"edge\">\n",
       "<title>2&#45;&gt;3</title>\n",
       "<path fill=\"none\" stroke=\"black\" d=\"M82.21,-71.8C78.51,-63.71 74.4,-54.76 70.63,-46.55\"/>\n",
       "<polygon fill=\"black\" stroke=\"black\" points=\"73.93,-45.34 66.58,-37.71 67.57,-48.25 73.93,-45.34\"/>\n",
       "</g>\n",
       "<!-- 64 -->\n",
       "<g id=\"node5\" class=\"node\">\n",
       "<title>64</title>\n",
       "<polygon fill=\"#c0c0c0\" stroke=\"black\" points=\"157,-36 103,-36 103,0 157,0 157,-36\"/>\n",
       "<text text-anchor=\"middle\" x=\"130\" y=\"-14.3\" font-family=\"Helvetica,sans-Serif\" font-size=\"14.00\">(...)</text>\n",
       "</g>\n",
       "<!-- 2&#45;&gt;64 -->\n",
       "<g id=\"edge4\" class=\"edge\">\n",
       "<title>2&#45;&gt;64</title>\n",
       "<path fill=\"none\" stroke=\"black\" d=\"M105.79,-71.8C109.49,-63.71 113.6,-54.76 117.37,-46.55\"/>\n",
       "<polygon fill=\"black\" stroke=\"black\" points=\"120.43,-48.25 121.42,-37.71 114.07,-45.34 120.43,-48.25\"/>\n",
       "</g>\n",
       "<!-- 116 -->\n",
       "<g id=\"node7\" class=\"node\">\n",
       "<title>116</title>\n",
       "<polygon fill=\"#c0c0c0\" stroke=\"black\" points=\"291,-36 237,-36 237,0 291,0 291,-36\"/>\n",
       "<text text-anchor=\"middle\" x=\"264\" y=\"-14.3\" font-family=\"Helvetica,sans-Serif\" font-size=\"14.00\">(...)</text>\n",
       "</g>\n",
       "<!-- 115&#45;&gt;116 -->\n",
       "<g id=\"edge6\" class=\"edge\">\n",
       "<title>115&#45;&gt;116</title>\n",
       "<path fill=\"none\" stroke=\"black\" d=\"M288.21,-71.8C284.51,-63.71 280.4,-54.76 276.63,-46.55\"/>\n",
       "<polygon fill=\"black\" stroke=\"black\" points=\"279.93,-45.34 272.58,-37.71 273.57,-48.25 279.93,-45.34\"/>\n",
       "</g>\n",
       "<!-- 229 -->\n",
       "<g id=\"node8\" class=\"node\">\n",
       "<title>229</title>\n",
       "<polygon fill=\"#c0c0c0\" stroke=\"black\" points=\"363,-36 309,-36 309,0 363,0 363,-36\"/>\n",
       "<text text-anchor=\"middle\" x=\"336\" y=\"-14.3\" font-family=\"Helvetica,sans-Serif\" font-size=\"14.00\">(...)</text>\n",
       "</g>\n",
       "<!-- 115&#45;&gt;229 -->\n",
       "<g id=\"edge7\" class=\"edge\">\n",
       "<title>115&#45;&gt;229</title>\n",
       "<path fill=\"none\" stroke=\"black\" d=\"M311.79,-71.8C315.49,-63.71 319.6,-54.76 323.37,-46.55\"/>\n",
       "<polygon fill=\"black\" stroke=\"black\" points=\"326.43,-48.25 327.42,-37.71 320.07,-45.34 326.43,-48.25\"/>\n",
       "</g>\n",
       "<!-- 421 -->\n",
       "<g id=\"node10\" class=\"node\">\n",
       "<title>421</title>\n",
       "<polygon fill=\"#39e581\" stroke=\"black\" points=\"558.5,-117.5 415.5,-117.5 415.5,-79.5 558.5,-79.5 558.5,-117.5\"/>\n",
       "<text text-anchor=\"middle\" x=\"487\" y=\"-102.3\" font-family=\"Helvetica,sans-Serif\" font-size=\"14.00\">samples = 0.2%</text>\n",
       "<text text-anchor=\"middle\" x=\"487\" y=\"-87.3\" font-family=\"Helvetica,sans-Serif\" font-size=\"14.00\">value = [0.0, 1.0, 0.0]</text>\n",
       "</g>\n",
       "<!-- 420&#45;&gt;421 -->\n",
       "<g id=\"edge9\" class=\"edge\">\n",
       "<title>420&#45;&gt;421</title>\n",
       "<path fill=\"none\" stroke=\"black\" d=\"M488.41,-160.87C488.18,-150.92 487.92,-139.47 487.68,-129.18\"/>\n",
       "<polygon fill=\"black\" stroke=\"black\" points=\"491.18,-129.21 487.45,-119.29 484.19,-129.37 491.18,-129.21\"/>\n",
       "</g>\n",
       "<!-- 422 -->\n",
       "<g id=\"node11\" class=\"node\">\n",
       "<title>422</title>\n",
       "<polygon fill=\"#ffffff\" stroke=\"black\" points=\"719.5,-125 576.5,-125 576.5,-72 719.5,-72 719.5,-125\"/>\n",
       "<text text-anchor=\"middle\" x=\"648\" y=\"-109.8\" font-family=\"Helvetica,sans-Serif\" font-size=\"14.00\">Death Anxiety &lt;= 9.0</text>\n",
       "<text text-anchor=\"middle\" x=\"648\" y=\"-94.8\" font-family=\"Helvetica,sans-Serif\" font-size=\"14.00\">samples = 0.7%</text>\n",
       "<text text-anchor=\"middle\" x=\"648\" y=\"-79.8\" font-family=\"Helvetica,sans-Serif\" font-size=\"14.00\">value = [0.5, 0.0, 0.5]</text>\n",
       "</g>\n",
       "<!-- 420&#45;&gt;422 -->\n",
       "<g id=\"edge10\" class=\"edge\">\n",
       "<title>420&#45;&gt;422</title>\n",
       "<path fill=\"none\" stroke=\"black\" d=\"M536.27,-160.63C553.42,-151.25 572.98,-140.55 590.88,-130.75\"/>\n",
       "<polygon fill=\"black\" stroke=\"black\" points=\"592.21,-134.01 599.31,-126.14 588.85,-127.87 592.21,-134.01\"/>\n",
       "</g>\n",
       "<!-- 423 -->\n",
       "<g id=\"node12\" class=\"node\">\n",
       "<title>423</title>\n",
       "<polygon fill=\"#c0c0c0\" stroke=\"black\" points=\"639,-36 585,-36 585,0 639,0 639,-36\"/>\n",
       "<text text-anchor=\"middle\" x=\"612\" y=\"-14.3\" font-family=\"Helvetica,sans-Serif\" font-size=\"14.00\">(...)</text>\n",
       "</g>\n",
       "<!-- 422&#45;&gt;423 -->\n",
       "<g id=\"edge11\" class=\"edge\">\n",
       "<title>422&#45;&gt;423</title>\n",
       "<path fill=\"none\" stroke=\"black\" d=\"M636.21,-71.8C632.51,-63.71 628.4,-54.76 624.63,-46.55\"/>\n",
       "<polygon fill=\"black\" stroke=\"black\" points=\"627.93,-45.34 620.58,-37.71 621.57,-48.25 627.93,-45.34\"/>\n",
       "</g>\n",
       "<!-- 424 -->\n",
       "<g id=\"node13\" class=\"node\">\n",
       "<title>424</title>\n",
       "<polygon fill=\"#c0c0c0\" stroke=\"black\" points=\"711,-36 657,-36 657,0 711,0 711,-36\"/>\n",
       "<text text-anchor=\"middle\" x=\"684\" y=\"-14.3\" font-family=\"Helvetica,sans-Serif\" font-size=\"14.00\">(...)</text>\n",
       "</g>\n",
       "<!-- 422&#45;&gt;424 -->\n",
       "<g id=\"edge12\" class=\"edge\">\n",
       "<title>422&#45;&gt;424</title>\n",
       "<path fill=\"none\" stroke=\"black\" d=\"M659.79,-71.8C663.49,-63.71 667.6,-54.76 671.37,-46.55\"/>\n",
       "<polygon fill=\"black\" stroke=\"black\" points=\"674.43,-48.25 675.42,-37.71 668.07,-45.34 674.43,-48.25\"/>\n",
       "</g>\n",
       "</g>\n",
       "</svg>\n"
      ],
      "text/plain": [
       "<graphviz.sources.Source at 0x7f8039613070>"
      ]
     },
     "metadata": {},
     "output_type": "display_data"
    },
    {
     "data": {
      "image/svg+xml": [
       "<?xml version=\"1.0\" encoding=\"UTF-8\" standalone=\"no\"?>\n",
       "<!DOCTYPE svg PUBLIC \"-//W3C//DTD SVG 1.1//EN\"\n",
       " \"http://www.w3.org/Graphics/SVG/1.1/DTD/svg11.dtd\">\n",
       "<!-- Generated by graphviz version 7.1.0 (20230121.1956)\n",
       " -->\n",
       "<!-- Title: Tree Pages: 1 -->\n",
       "<svg width=\"814pt\" height=\"311pt\"\n",
       " viewBox=\"0.00 0.00 814.00 311.00\" xmlns=\"http://www.w3.org/2000/svg\" xmlns:xlink=\"http://www.w3.org/1999/xlink\">\n",
       "<g id=\"graph0\" class=\"graph\" transform=\"scale(1 1) rotate(0) translate(4 307)\">\n",
       "<title>Tree</title>\n",
       "<polygon fill=\"white\" stroke=\"none\" points=\"-4,4 -4,-307 810,-307 810,4 -4,4\"/>\n",
       "<!-- 0 -->\n",
       "<g id=\"node1\" class=\"node\">\n",
       "<title>0</title>\n",
       "<polygon fill=\"#7deead\" stroke=\"black\" points=\"497,-303 309,-303 309,-250 497,-250 497,-303\"/>\n",
       "<text text-anchor=\"middle\" x=\"403\" y=\"-287.8\" font-family=\"Helvetica,sans-Serif\" font-size=\"14.00\">Death Anxiety &lt;= 10.5</text>\n",
       "<text text-anchor=\"middle\" x=\"403\" y=\"-272.8\" font-family=\"Helvetica,sans-Serif\" font-size=\"14.00\">samples = 100.0%</text>\n",
       "<text text-anchor=\"middle\" x=\"403\" y=\"-257.8\" font-family=\"Helvetica,sans-Serif\" font-size=\"14.00\">value = [0.077, 0.723, 0.199]</text>\n",
       "</g>\n",
       "<!-- 1 -->\n",
       "<g id=\"node2\" class=\"node\">\n",
       "<title>1</title>\n",
       "<polygon fill=\"#67eb9e\" stroke=\"black\" points=\"394,-214 206,-214 206,-161 394,-161 394,-214\"/>\n",
       "<text text-anchor=\"middle\" x=\"300\" y=\"-198.8\" font-family=\"Helvetica,sans-Serif\" font-size=\"14.00\">Negative Affect &lt;= 17.5</text>\n",
       "<text text-anchor=\"middle\" x=\"300\" y=\"-183.8\" font-family=\"Helvetica,sans-Serif\" font-size=\"14.00\">samples = 34.8%</text>\n",
       "<text text-anchor=\"middle\" x=\"300\" y=\"-168.8\" font-family=\"Helvetica,sans-Serif\" font-size=\"14.00\">value = [0.025, 0.807, 0.168]</text>\n",
       "</g>\n",
       "<!-- 0&#45;&gt;1 -->\n",
       "<g id=\"edge1\" class=\"edge\">\n",
       "<title>0&#45;&gt;1</title>\n",
       "<path fill=\"none\" stroke=\"black\" d=\"M372.38,-249.63C361.99,-240.86 350.24,-230.93 339.27,-221.67\"/>\n",
       "<polygon fill=\"black\" stroke=\"black\" points=\"341.74,-219.17 331.84,-215.39 337.22,-224.52 341.74,-219.17\"/>\n",
       "<text text-anchor=\"middle\" x=\"332.78\" y=\"-235.63\" font-family=\"Helvetica,sans-Serif\" font-size=\"14.00\">True</text>\n",
       "</g>\n",
       "<!-- 140 -->\n",
       "<g id=\"node9\" class=\"node\">\n",
       "<title>140</title>\n",
       "<polygon fill=\"#8bf0b5\" stroke=\"black\" points=\"600,-214 412,-214 412,-161 600,-161 600,-214\"/>\n",
       "<text text-anchor=\"middle\" x=\"506\" y=\"-198.8\" font-family=\"Helvetica,sans-Serif\" font-size=\"14.00\">Depression &lt;= 19.5</text>\n",
       "<text text-anchor=\"middle\" x=\"506\" y=\"-183.8\" font-family=\"Helvetica,sans-Serif\" font-size=\"14.00\">samples = 65.2%</text>\n",
       "<text text-anchor=\"middle\" x=\"506\" y=\"-168.8\" font-family=\"Helvetica,sans-Serif\" font-size=\"14.00\">value = [0.106, 0.677, 0.217]</text>\n",
       "</g>\n",
       "<!-- 0&#45;&gt;140 -->\n",
       "<g id=\"edge8\" class=\"edge\">\n",
       "<title>0&#45;&gt;140</title>\n",
       "<path fill=\"none\" stroke=\"black\" d=\"M433.62,-249.63C444.01,-240.86 455.76,-230.93 466.73,-221.67\"/>\n",
       "<polygon fill=\"black\" stroke=\"black\" points=\"468.78,-224.52 474.16,-215.39 464.26,-219.17 468.78,-224.52\"/>\n",
       "<text text-anchor=\"middle\" x=\"473.22\" y=\"-235.63\" font-family=\"Helvetica,sans-Serif\" font-size=\"14.00\">False</text>\n",
       "</g>\n",
       "<!-- 2 -->\n",
       "<g id=\"node3\" class=\"node\">\n",
       "<title>2</title>\n",
       "<polygon fill=\"#56e993\" stroke=\"black\" points=\"188,-125 0,-125 0,-72 188,-72 188,-125\"/>\n",
       "<text text-anchor=\"middle\" x=\"94\" y=\"-109.8\" font-family=\"Helvetica,sans-Serif\" font-size=\"14.00\">Depression &lt;= 7.5</text>\n",
       "<text text-anchor=\"middle\" x=\"94\" y=\"-94.8\" font-family=\"Helvetica,sans-Serif\" font-size=\"14.00\">samples = 15.1%</text>\n",
       "<text text-anchor=\"middle\" x=\"94\" y=\"-79.8\" font-family=\"Helvetica,sans-Serif\" font-size=\"14.00\">value = [0.028, 0.869, 0.103]</text>\n",
       "</g>\n",
       "<!-- 1&#45;&gt;2 -->\n",
       "<g id=\"edge2\" class=\"edge\">\n",
       "<title>1&#45;&gt;2</title>\n",
       "<path fill=\"none\" stroke=\"black\" d=\"M238.47,-160.51C215.55,-150.83 189.33,-139.76 165.58,-129.73\"/>\n",
       "<polygon fill=\"black\" stroke=\"black\" points=\"167.18,-126.61 156.61,-125.94 164.46,-133.05 167.18,-126.61\"/>\n",
       "</g>\n",
       "<!-- 47 -->\n",
       "<g id=\"node6\" class=\"node\">\n",
       "<title>47</title>\n",
       "<polygon fill=\"#76eda8\" stroke=\"black\" points=\"394,-125 206,-125 206,-72 394,-72 394,-125\"/>\n",
       "<text text-anchor=\"middle\" x=\"300\" y=\"-109.8\" font-family=\"Helvetica,sans-Serif\" font-size=\"14.00\">Negative Affect &lt;= 20.5</text>\n",
       "<text text-anchor=\"middle\" x=\"300\" y=\"-94.8\" font-family=\"Helvetica,sans-Serif\" font-size=\"14.00\">samples = 19.7%</text>\n",
       "<text text-anchor=\"middle\" x=\"300\" y=\"-79.8\" font-family=\"Helvetica,sans-Serif\" font-size=\"14.00\">value = [0.022, 0.759, 0.219]</text>\n",
       "</g>\n",
       "<!-- 1&#45;&gt;47 -->\n",
       "<g id=\"edge5\" class=\"edge\">\n",
       "<title>1&#45;&gt;47</title>\n",
       "<path fill=\"none\" stroke=\"black\" d=\"M300,-160.87C300,-153.24 300,-144.72 300,-136.51\"/>\n",
       "<polygon fill=\"black\" stroke=\"black\" points=\"303.5,-136.76 300,-126.76 296.5,-136.76 303.5,-136.76\"/>\n",
       "</g>\n",
       "<!-- 3 -->\n",
       "<g id=\"node4\" class=\"node\">\n",
       "<title>3</title>\n",
       "<polygon fill=\"#c0c0c0\" stroke=\"black\" points=\"103,-36 49,-36 49,0 103,0 103,-36\"/>\n",
       "<text text-anchor=\"middle\" x=\"76\" y=\"-14.3\" font-family=\"Helvetica,sans-Serif\" font-size=\"14.00\">(...)</text>\n",
       "</g>\n",
       "<!-- 2&#45;&gt;3 -->\n",
       "<g id=\"edge3\" class=\"edge\">\n",
       "<title>2&#45;&gt;3</title>\n",
       "<path fill=\"none\" stroke=\"black\" d=\"M88.11,-71.8C86.32,-63.99 84.34,-55.36 82.51,-47.38\"/>\n",
       "<polygon fill=\"black\" stroke=\"black\" points=\"85.96,-46.77 80.31,-37.81 79.14,-48.33 85.96,-46.77\"/>\n",
       "</g>\n",
       "<!-- 22 -->\n",
       "<g id=\"node5\" class=\"node\">\n",
       "<title>22</title>\n",
       "<polygon fill=\"#c0c0c0\" stroke=\"black\" points=\"175,-36 121,-36 121,0 175,0 175,-36\"/>\n",
       "<text text-anchor=\"middle\" x=\"148\" y=\"-14.3\" font-family=\"Helvetica,sans-Serif\" font-size=\"14.00\">(...)</text>\n",
       "</g>\n",
       "<!-- 2&#45;&gt;22 -->\n",
       "<g id=\"edge4\" class=\"edge\">\n",
       "<title>2&#45;&gt;22</title>\n",
       "<path fill=\"none\" stroke=\"black\" d=\"M111.68,-71.8C117.43,-63.44 123.82,-54.15 129.62,-45.72\"/>\n",
       "<polygon fill=\"black\" stroke=\"black\" points=\"132.44,-47.8 135.22,-37.58 126.67,-43.83 132.44,-47.8\"/>\n",
       "</g>\n",
       "<!-- 48 -->\n",
       "<g id=\"node7\" class=\"node\">\n",
       "<title>48</title>\n",
       "<polygon fill=\"#c0c0c0\" stroke=\"black\" points=\"273,-36 219,-36 219,0 273,0 273,-36\"/>\n",
       "<text text-anchor=\"middle\" x=\"246\" y=\"-14.3\" font-family=\"Helvetica,sans-Serif\" font-size=\"14.00\">(...)</text>\n",
       "</g>\n",
       "<!-- 47&#45;&gt;48 -->\n",
       "<g id=\"edge6\" class=\"edge\">\n",
       "<title>47&#45;&gt;48</title>\n",
       "<path fill=\"none\" stroke=\"black\" d=\"M282.32,-71.8C276.57,-63.44 270.18,-54.15 264.38,-45.72\"/>\n",
       "<polygon fill=\"black\" stroke=\"black\" points=\"267.33,-43.83 258.78,-37.58 261.56,-47.8 267.33,-43.83\"/>\n",
       "</g>\n",
       "<!-- 85 -->\n",
       "<g id=\"node8\" class=\"node\">\n",
       "<title>85</title>\n",
       "<polygon fill=\"#c0c0c0\" stroke=\"black\" points=\"345,-36 291,-36 291,0 345,0 345,-36\"/>\n",
       "<text text-anchor=\"middle\" x=\"318\" y=\"-14.3\" font-family=\"Helvetica,sans-Serif\" font-size=\"14.00\">(...)</text>\n",
       "</g>\n",
       "<!-- 47&#45;&gt;85 -->\n",
       "<g id=\"edge7\" class=\"edge\">\n",
       "<title>47&#45;&gt;85</title>\n",
       "<path fill=\"none\" stroke=\"black\" d=\"M305.89,-71.8C307.68,-63.99 309.66,-55.36 311.49,-47.38\"/>\n",
       "<polygon fill=\"black\" stroke=\"black\" points=\"314.86,-48.33 313.69,-37.81 308.04,-46.77 314.86,-48.33\"/>\n",
       "</g>\n",
       "<!-- 141 -->\n",
       "<g id=\"node10\" class=\"node\">\n",
       "<title>141</title>\n",
       "<polygon fill=\"#88efb3\" stroke=\"black\" points=\"600,-125 412,-125 412,-72 600,-72 600,-125\"/>\n",
       "<text text-anchor=\"middle\" x=\"506\" y=\"-109.8\" font-family=\"Helvetica,sans-Serif\" font-size=\"14.00\">Negative Affect &lt;= 32.5</text>\n",
       "<text text-anchor=\"middle\" x=\"506\" y=\"-94.8\" font-family=\"Helvetica,sans-Serif\" font-size=\"14.00\">samples = 63.8%</text>\n",
       "<text text-anchor=\"middle\" x=\"506\" y=\"-79.8\" font-family=\"Helvetica,sans-Serif\" font-size=\"14.00\">value = [0.101, 0.687, 0.212]</text>\n",
       "</g>\n",
       "<!-- 140&#45;&gt;141 -->\n",
       "<g id=\"edge9\" class=\"edge\">\n",
       "<title>140&#45;&gt;141</title>\n",
       "<path fill=\"none\" stroke=\"black\" d=\"M506,-160.87C506,-153.24 506,-144.72 506,-136.51\"/>\n",
       "<polygon fill=\"black\" stroke=\"black\" points=\"509.5,-136.76 506,-126.76 502.5,-136.76 509.5,-136.76\"/>\n",
       "</g>\n",
       "<!-- 448 -->\n",
       "<g id=\"node13\" class=\"node\">\n",
       "<title>448</title>\n",
       "<polygon fill=\"#eadefb\" stroke=\"black\" points=\"806,-125 618,-125 618,-72 806,-72 806,-125\"/>\n",
       "<text text-anchor=\"middle\" x=\"712\" y=\"-109.8\" font-family=\"Helvetica,sans-Serif\" font-size=\"14.00\">Negative Affect &lt;= 39.0</text>\n",
       "<text text-anchor=\"middle\" x=\"712\" y=\"-94.8\" font-family=\"Helvetica,sans-Serif\" font-size=\"14.00\">samples = 1.4%</text>\n",
       "<text text-anchor=\"middle\" x=\"712\" y=\"-79.8\" font-family=\"Helvetica,sans-Serif\" font-size=\"14.00\">value = [0.333, 0.222, 0.444]</text>\n",
       "</g>\n",
       "<!-- 140&#45;&gt;448 -->\n",
       "<g id=\"edge12\" class=\"edge\">\n",
       "<title>140&#45;&gt;448</title>\n",
       "<path fill=\"none\" stroke=\"black\" d=\"M567.53,-160.51C590.45,-150.83 616.67,-139.76 640.42,-129.73\"/>\n",
       "<polygon fill=\"black\" stroke=\"black\" points=\"641.54,-133.05 649.39,-125.94 638.82,-126.61 641.54,-133.05\"/>\n",
       "</g>\n",
       "<!-- 142 -->\n",
       "<g id=\"node11\" class=\"node\">\n",
       "<title>142</title>\n",
       "<polygon fill=\"#c0c0c0\" stroke=\"black\" points=\"497,-36 443,-36 443,0 497,0 497,-36\"/>\n",
       "<text text-anchor=\"middle\" x=\"470\" y=\"-14.3\" font-family=\"Helvetica,sans-Serif\" font-size=\"14.00\">(...)</text>\n",
       "</g>\n",
       "<!-- 141&#45;&gt;142 -->\n",
       "<g id=\"edge10\" class=\"edge\">\n",
       "<title>141&#45;&gt;142</title>\n",
       "<path fill=\"none\" stroke=\"black\" d=\"M494.21,-71.8C490.51,-63.71 486.4,-54.76 482.63,-46.55\"/>\n",
       "<polygon fill=\"black\" stroke=\"black\" points=\"485.93,-45.34 478.58,-37.71 479.57,-48.25 485.93,-45.34\"/>\n",
       "</g>\n",
       "<!-- 383 -->\n",
       "<g id=\"node12\" class=\"node\">\n",
       "<title>383</title>\n",
       "<polygon fill=\"#c0c0c0\" stroke=\"black\" points=\"569,-36 515,-36 515,0 569,0 569,-36\"/>\n",
       "<text text-anchor=\"middle\" x=\"542\" y=\"-14.3\" font-family=\"Helvetica,sans-Serif\" font-size=\"14.00\">(...)</text>\n",
       "</g>\n",
       "<!-- 141&#45;&gt;383 -->\n",
       "<g id=\"edge11\" class=\"edge\">\n",
       "<title>141&#45;&gt;383</title>\n",
       "<path fill=\"none\" stroke=\"black\" d=\"M517.79,-71.8C521.49,-63.71 525.6,-54.76 529.37,-46.55\"/>\n",
       "<polygon fill=\"black\" stroke=\"black\" points=\"532.43,-48.25 533.42,-37.71 526.07,-45.34 532.43,-48.25\"/>\n",
       "</g>\n",
       "<!-- 449 -->\n",
       "<g id=\"node14\" class=\"node\">\n",
       "<title>449</title>\n",
       "<polygon fill=\"#c0c0c0\" stroke=\"black\" points=\"703,-36 649,-36 649,0 703,0 703,-36\"/>\n",
       "<text text-anchor=\"middle\" x=\"676\" y=\"-14.3\" font-family=\"Helvetica,sans-Serif\" font-size=\"14.00\">(...)</text>\n",
       "</g>\n",
       "<!-- 448&#45;&gt;449 -->\n",
       "<g id=\"edge13\" class=\"edge\">\n",
       "<title>448&#45;&gt;449</title>\n",
       "<path fill=\"none\" stroke=\"black\" d=\"M700.21,-71.8C696.51,-63.71 692.4,-54.76 688.63,-46.55\"/>\n",
       "<polygon fill=\"black\" stroke=\"black\" points=\"691.93,-45.34 684.58,-37.71 685.57,-48.25 691.93,-45.34\"/>\n",
       "</g>\n",
       "<!-- 458 -->\n",
       "<g id=\"node15\" class=\"node\">\n",
       "<title>458</title>\n",
       "<polygon fill=\"#c0c0c0\" stroke=\"black\" points=\"775,-36 721,-36 721,0 775,0 775,-36\"/>\n",
       "<text text-anchor=\"middle\" x=\"748\" y=\"-14.3\" font-family=\"Helvetica,sans-Serif\" font-size=\"14.00\">(...)</text>\n",
       "</g>\n",
       "<!-- 448&#45;&gt;458 -->\n",
       "<g id=\"edge14\" class=\"edge\">\n",
       "<title>448&#45;&gt;458</title>\n",
       "<path fill=\"none\" stroke=\"black\" d=\"M723.79,-71.8C727.49,-63.71 731.6,-54.76 735.37,-46.55\"/>\n",
       "<polygon fill=\"black\" stroke=\"black\" points=\"738.43,-48.25 739.42,-37.71 732.07,-45.34 738.43,-48.25\"/>\n",
       "</g>\n",
       "</g>\n",
       "</svg>\n"
      ],
      "text/plain": [
       "<graphviz.sources.Source at 0x7f8036b5f820>"
      ]
     },
     "metadata": {},
     "output_type": "display_data"
    },
    {
     "data": {
      "image/svg+xml": [
       "<?xml version=\"1.0\" encoding=\"UTF-8\" standalone=\"no\"?>\n",
       "<!DOCTYPE svg PUBLIC \"-//W3C//DTD SVG 1.1//EN\"\n",
       " \"http://www.w3.org/Graphics/SVG/1.1/DTD/svg11.dtd\">\n",
       "<!-- Generated by graphviz version 7.1.0 (20230121.1956)\n",
       " -->\n",
       "<!-- Title: Tree Pages: 1 -->\n",
       "<svg width=\"800pt\" height=\"311pt\"\n",
       " viewBox=\"0.00 0.00 799.50 311.00\" xmlns=\"http://www.w3.org/2000/svg\" xmlns:xlink=\"http://www.w3.org/1999/xlink\">\n",
       "<g id=\"graph0\" class=\"graph\" transform=\"scale(1 1) rotate(0) translate(4 307)\">\n",
       "<title>Tree</title>\n",
       "<polygon fill=\"white\" stroke=\"none\" points=\"-4,4 -4,-307 795.5,-307 795.5,4 -4,4\"/>\n",
       "<!-- 0 -->\n",
       "<g id=\"node1\" class=\"node\">\n",
       "<title>0</title>\n",
       "<polygon fill=\"#7beeab\" stroke=\"black\" points=\"497,-303 309,-303 309,-250 497,-250 497,-303\"/>\n",
       "<text text-anchor=\"middle\" x=\"403\" y=\"-287.8\" font-family=\"Helvetica,sans-Serif\" font-size=\"14.00\">Negative Affect &lt;= 29.5</text>\n",
       "<text text-anchor=\"middle\" x=\"403\" y=\"-272.8\" font-family=\"Helvetica,sans-Serif\" font-size=\"14.00\">samples = 100.0%</text>\n",
       "<text text-anchor=\"middle\" x=\"403\" y=\"-257.8\" font-family=\"Helvetica,sans-Serif\" font-size=\"14.00\">value = [0.071, 0.732, 0.197]</text>\n",
       "</g>\n",
       "<!-- 1 -->\n",
       "<g id=\"node2\" class=\"node\">\n",
       "<title>1</title>\n",
       "<polygon fill=\"#6feca4\" stroke=\"black\" points=\"394,-214 206,-214 206,-161 394,-161 394,-214\"/>\n",
       "<text text-anchor=\"middle\" x=\"300\" y=\"-198.8\" font-family=\"Helvetica,sans-Serif\" font-size=\"14.00\">Death Anxiety &lt;= 9.5</text>\n",
       "<text text-anchor=\"middle\" x=\"300\" y=\"-183.8\" font-family=\"Helvetica,sans-Serif\" font-size=\"14.00\">samples = 79.5%</text>\n",
       "<text text-anchor=\"middle\" x=\"300\" y=\"-168.8\" font-family=\"Helvetica,sans-Serif\" font-size=\"14.00\">value = [0.053, 0.773, 0.174]</text>\n",
       "</g>\n",
       "<!-- 0&#45;&gt;1 -->\n",
       "<g id=\"edge1\" class=\"edge\">\n",
       "<title>0&#45;&gt;1</title>\n",
       "<path fill=\"none\" stroke=\"black\" d=\"M372.38,-249.63C361.99,-240.86 350.24,-230.93 339.27,-221.67\"/>\n",
       "<polygon fill=\"black\" stroke=\"black\" points=\"341.74,-219.17 331.84,-215.39 337.22,-224.52 341.74,-219.17\"/>\n",
       "<text text-anchor=\"middle\" x=\"332.78\" y=\"-235.63\" font-family=\"Helvetica,sans-Serif\" font-size=\"14.00\">True</text>\n",
       "</g>\n",
       "<!-- 324 -->\n",
       "<g id=\"node9\" class=\"node\">\n",
       "<title>324</title>\n",
       "<polygon fill=\"#aff4cc\" stroke=\"black\" points=\"600,-214 412,-214 412,-161 600,-161 600,-214\"/>\n",
       "<text text-anchor=\"middle\" x=\"506\" y=\"-198.8\" font-family=\"Helvetica,sans-Serif\" font-size=\"14.00\">Negative Affect &lt;= 37.5</text>\n",
       "<text text-anchor=\"middle\" x=\"506\" y=\"-183.8\" font-family=\"Helvetica,sans-Serif\" font-size=\"14.00\">samples = 20.5%</text>\n",
       "<text text-anchor=\"middle\" x=\"506\" y=\"-168.8\" font-family=\"Helvetica,sans-Serif\" font-size=\"14.00\">value = [0.142, 0.574, 0.284]</text>\n",
       "</g>\n",
       "<!-- 0&#45;&gt;324 -->\n",
       "<g id=\"edge8\" class=\"edge\">\n",
       "<title>0&#45;&gt;324</title>\n",
       "<path fill=\"none\" stroke=\"black\" d=\"M433.62,-249.63C444.01,-240.86 455.76,-230.93 466.73,-221.67\"/>\n",
       "<polygon fill=\"black\" stroke=\"black\" points=\"468.78,-224.52 474.16,-215.39 464.26,-219.17 468.78,-224.52\"/>\n",
       "<text text-anchor=\"middle\" x=\"473.22\" y=\"-235.63\" font-family=\"Helvetica,sans-Serif\" font-size=\"14.00\">False</text>\n",
       "</g>\n",
       "<!-- 2 -->\n",
       "<g id=\"node3\" class=\"node\">\n",
       "<title>2</title>\n",
       "<polygon fill=\"#5dea98\" stroke=\"black\" points=\"188,-125 0,-125 0,-72 188,-72 188,-125\"/>\n",
       "<text text-anchor=\"middle\" x=\"94\" y=\"-109.8\" font-family=\"Helvetica,sans-Serif\" font-size=\"14.00\">Depression &lt;= 10.5</text>\n",
       "<text text-anchor=\"middle\" x=\"94\" y=\"-94.8\" font-family=\"Helvetica,sans-Serif\" font-size=\"14.00\">samples = 23.2%</text>\n",
       "<text text-anchor=\"middle\" x=\"94\" y=\"-79.8\" font-family=\"Helvetica,sans-Serif\" font-size=\"14.00\">value = [0.019, 0.843, 0.138]</text>\n",
       "</g>\n",
       "<!-- 1&#45;&gt;2 -->\n",
       "<g id=\"edge2\" class=\"edge\">\n",
       "<title>1&#45;&gt;2</title>\n",
       "<path fill=\"none\" stroke=\"black\" d=\"M238.47,-160.51C215.55,-150.83 189.33,-139.76 165.58,-129.73\"/>\n",
       "<polygon fill=\"black\" stroke=\"black\" points=\"167.18,-126.61 156.61,-125.94 164.46,-133.05 167.18,-126.61\"/>\n",
       "</g>\n",
       "<!-- 95 -->\n",
       "<g id=\"node6\" class=\"node\">\n",
       "<title>95</title>\n",
       "<polygon fill=\"#77eda9\" stroke=\"black\" points=\"394,-125 206,-125 206,-72 394,-72 394,-125\"/>\n",
       "<text text-anchor=\"middle\" x=\"300\" y=\"-109.8\" font-family=\"Helvetica,sans-Serif\" font-size=\"14.00\">Death Anxiety &lt;= 16.5</text>\n",
       "<text text-anchor=\"middle\" x=\"300\" y=\"-94.8\" font-family=\"Helvetica,sans-Serif\" font-size=\"14.00\">samples = 56.3%</text>\n",
       "<text text-anchor=\"middle\" x=\"300\" y=\"-79.8\" font-family=\"Helvetica,sans-Serif\" font-size=\"14.00\">value = [0.067, 0.744, 0.189]</text>\n",
       "</g>\n",
       "<!-- 1&#45;&gt;95 -->\n",
       "<g id=\"edge5\" class=\"edge\">\n",
       "<title>1&#45;&gt;95</title>\n",
       "<path fill=\"none\" stroke=\"black\" d=\"M300,-160.87C300,-153.24 300,-144.72 300,-136.51\"/>\n",
       "<polygon fill=\"black\" stroke=\"black\" points=\"303.5,-136.76 300,-126.76 296.5,-136.76 303.5,-136.76\"/>\n",
       "</g>\n",
       "<!-- 3 -->\n",
       "<g id=\"node4\" class=\"node\">\n",
       "<title>3</title>\n",
       "<polygon fill=\"#c0c0c0\" stroke=\"black\" points=\"85,-36 31,-36 31,0 85,0 85,-36\"/>\n",
       "<text text-anchor=\"middle\" x=\"58\" y=\"-14.3\" font-family=\"Helvetica,sans-Serif\" font-size=\"14.00\">(...)</text>\n",
       "</g>\n",
       "<!-- 2&#45;&gt;3 -->\n",
       "<g id=\"edge3\" class=\"edge\">\n",
       "<title>2&#45;&gt;3</title>\n",
       "<path fill=\"none\" stroke=\"black\" d=\"M82.21,-71.8C78.51,-63.71 74.4,-54.76 70.63,-46.55\"/>\n",
       "<polygon fill=\"black\" stroke=\"black\" points=\"73.93,-45.34 66.58,-37.71 67.57,-48.25 73.93,-45.34\"/>\n",
       "</g>\n",
       "<!-- 48 -->\n",
       "<g id=\"node5\" class=\"node\">\n",
       "<title>48</title>\n",
       "<polygon fill=\"#c0c0c0\" stroke=\"black\" points=\"157,-36 103,-36 103,0 157,0 157,-36\"/>\n",
       "<text text-anchor=\"middle\" x=\"130\" y=\"-14.3\" font-family=\"Helvetica,sans-Serif\" font-size=\"14.00\">(...)</text>\n",
       "</g>\n",
       "<!-- 2&#45;&gt;48 -->\n",
       "<g id=\"edge4\" class=\"edge\">\n",
       "<title>2&#45;&gt;48</title>\n",
       "<path fill=\"none\" stroke=\"black\" d=\"M105.79,-71.8C109.49,-63.71 113.6,-54.76 117.37,-46.55\"/>\n",
       "<polygon fill=\"black\" stroke=\"black\" points=\"120.43,-48.25 121.42,-37.71 114.07,-45.34 120.43,-48.25\"/>\n",
       "</g>\n",
       "<!-- 96 -->\n",
       "<g id=\"node7\" class=\"node\">\n",
       "<title>96</title>\n",
       "<polygon fill=\"#c0c0c0\" stroke=\"black\" points=\"306,-36 252,-36 252,0 306,0 306,-36\"/>\n",
       "<text text-anchor=\"middle\" x=\"279\" y=\"-14.3\" font-family=\"Helvetica,sans-Serif\" font-size=\"14.00\">(...)</text>\n",
       "</g>\n",
       "<!-- 95&#45;&gt;96 -->\n",
       "<g id=\"edge6\" class=\"edge\">\n",
       "<title>95&#45;&gt;96</title>\n",
       "<path fill=\"none\" stroke=\"black\" d=\"M293.12,-71.8C291.03,-63.99 288.73,-55.36 286.59,-47.38\"/>\n",
       "<polygon fill=\"black\" stroke=\"black\" points=\"289.99,-46.55 284.03,-37.79 283.23,-48.36 289.99,-46.55\"/>\n",
       "</g>\n",
       "<!-- 307 -->\n",
       "<g id=\"node8\" class=\"node\">\n",
       "<title>307</title>\n",
       "<polygon fill=\"#c0c0c0\" stroke=\"black\" points=\"378,-36 324,-36 324,0 378,0 378,-36\"/>\n",
       "<text text-anchor=\"middle\" x=\"351\" y=\"-14.3\" font-family=\"Helvetica,sans-Serif\" font-size=\"14.00\">(...)</text>\n",
       "</g>\n",
       "<!-- 95&#45;&gt;307 -->\n",
       "<g id=\"edge7\" class=\"edge\">\n",
       "<title>95&#45;&gt;307</title>\n",
       "<path fill=\"none\" stroke=\"black\" d=\"M316.7,-71.8C322.13,-63.44 328.16,-54.15 333.64,-45.72\"/>\n",
       "<polygon fill=\"black\" stroke=\"black\" points=\"336.4,-47.89 338.92,-37.6 330.53,-44.08 336.4,-47.89\"/>\n",
       "</g>\n",
       "<!-- 325 -->\n",
       "<g id=\"node10\" class=\"node\">\n",
       "<title>325</title>\n",
       "<polygon fill=\"#a3f3c5\" stroke=\"black\" points=\"600,-125 412,-125 412,-72 600,-72 600,-125\"/>\n",
       "<text text-anchor=\"middle\" x=\"506\" y=\"-109.8\" font-family=\"Helvetica,sans-Serif\" font-size=\"14.00\">Death Anxiety &lt;= 13.5</text>\n",
       "<text text-anchor=\"middle\" x=\"506\" y=\"-94.8\" font-family=\"Helvetica,sans-Serif\" font-size=\"14.00\">samples = 18.4%</text>\n",
       "<text text-anchor=\"middle\" x=\"506\" y=\"-79.8\" font-family=\"Helvetica,sans-Serif\" font-size=\"14.00\">value = [0.109, 0.612, 0.279]</text>\n",
       "</g>\n",
       "<!-- 324&#45;&gt;325 -->\n",
       "<g id=\"edge9\" class=\"edge\">\n",
       "<title>324&#45;&gt;325</title>\n",
       "<path fill=\"none\" stroke=\"black\" d=\"M506,-160.87C506,-153.24 506,-144.72 506,-136.51\"/>\n",
       "<polygon fill=\"black\" stroke=\"black\" points=\"509.5,-136.76 506,-126.76 502.5,-136.76 509.5,-136.76\"/>\n",
       "</g>\n",
       "<!-- 412 -->\n",
       "<g id=\"node13\" class=\"node\">\n",
       "<title>412</title>\n",
       "<polygon fill=\"#f8e0ce\" stroke=\"black\" points=\"791.5,-125 618.5,-125 618.5,-72 791.5,-72 791.5,-125\"/>\n",
       "<text text-anchor=\"middle\" x=\"705\" y=\"-109.8\" font-family=\"Helvetica,sans-Serif\" font-size=\"14.00\">Depression &lt;= 16.5</text>\n",
       "<text text-anchor=\"middle\" x=\"705\" y=\"-94.8\" font-family=\"Helvetica,sans-Serif\" font-size=\"14.00\">samples = 2.1%</text>\n",
       "<text text-anchor=\"middle\" x=\"705\" y=\"-79.8\" font-family=\"Helvetica,sans-Serif\" font-size=\"14.00\">value = [0.5, 0.167, 0.333]</text>\n",
       "</g>\n",
       "<!-- 324&#45;&gt;412 -->\n",
       "<g id=\"edge12\" class=\"edge\">\n",
       "<title>324&#45;&gt;412</title>\n",
       "<path fill=\"none\" stroke=\"black\" d=\"M565.44,-160.51C587.49,-150.88 612.68,-139.86 635.55,-129.86\"/>\n",
       "<polygon fill=\"black\" stroke=\"black\" points=\"636.72,-133.17 644.48,-125.96 633.92,-126.76 636.72,-133.17\"/>\n",
       "</g>\n",
       "<!-- 326 -->\n",
       "<g id=\"node11\" class=\"node\">\n",
       "<title>326</title>\n",
       "<polygon fill=\"#c0c0c0\" stroke=\"black\" points=\"481,-36 427,-36 427,0 481,0 481,-36\"/>\n",
       "<text text-anchor=\"middle\" x=\"454\" y=\"-14.3\" font-family=\"Helvetica,sans-Serif\" font-size=\"14.00\">(...)</text>\n",
       "</g>\n",
       "<!-- 325&#45;&gt;326 -->\n",
       "<g id=\"edge10\" class=\"edge\">\n",
       "<title>325&#45;&gt;326</title>\n",
       "<path fill=\"none\" stroke=\"black\" d=\"M488.97,-71.8C483.44,-63.44 477.28,-54.15 471.7,-45.72\"/>\n",
       "<polygon fill=\"black\" stroke=\"black\" points=\"474.76,-44 466.32,-37.59 468.92,-47.86 474.76,-44\"/>\n",
       "</g>\n",
       "<!-- 337 -->\n",
       "<g id=\"node12\" class=\"node\">\n",
       "<title>337</title>\n",
       "<polygon fill=\"#c0c0c0\" stroke=\"black\" points=\"553,-36 499,-36 499,0 553,0 553,-36\"/>\n",
       "<text text-anchor=\"middle\" x=\"526\" y=\"-14.3\" font-family=\"Helvetica,sans-Serif\" font-size=\"14.00\">(...)</text>\n",
       "</g>\n",
       "<!-- 325&#45;&gt;337 -->\n",
       "<g id=\"edge11\" class=\"edge\">\n",
       "<title>325&#45;&gt;337</title>\n",
       "<path fill=\"none\" stroke=\"black\" d=\"M512.55,-71.8C514.54,-63.99 516.74,-55.36 518.77,-47.38\"/>\n",
       "<polygon fill=\"black\" stroke=\"black\" points=\"522.13,-48.35 521.21,-37.8 515.35,-46.62 522.13,-48.35\"/>\n",
       "</g>\n",
       "<!-- 413 -->\n",
       "<g id=\"node14\" class=\"node\">\n",
       "<title>413</title>\n",
       "<polygon fill=\"#c0c0c0\" stroke=\"black\" points=\"696,-36 642,-36 642,0 696,0 696,-36\"/>\n",
       "<text text-anchor=\"middle\" x=\"669\" y=\"-14.3\" font-family=\"Helvetica,sans-Serif\" font-size=\"14.00\">(...)</text>\n",
       "</g>\n",
       "<!-- 412&#45;&gt;413 -->\n",
       "<g id=\"edge13\" class=\"edge\">\n",
       "<title>412&#45;&gt;413</title>\n",
       "<path fill=\"none\" stroke=\"black\" d=\"M693.21,-71.8C689.51,-63.71 685.4,-54.76 681.63,-46.55\"/>\n",
       "<polygon fill=\"black\" stroke=\"black\" points=\"684.93,-45.34 677.58,-37.71 678.57,-48.25 684.93,-45.34\"/>\n",
       "</g>\n",
       "<!-- 422 -->\n",
       "<g id=\"node15\" class=\"node\">\n",
       "<title>422</title>\n",
       "<polygon fill=\"#c0c0c0\" stroke=\"black\" points=\"768,-36 714,-36 714,0 768,0 768,-36\"/>\n",
       "<text text-anchor=\"middle\" x=\"741\" y=\"-14.3\" font-family=\"Helvetica,sans-Serif\" font-size=\"14.00\">(...)</text>\n",
       "</g>\n",
       "<!-- 412&#45;&gt;422 -->\n",
       "<g id=\"edge14\" class=\"edge\">\n",
       "<title>412&#45;&gt;422</title>\n",
       "<path fill=\"none\" stroke=\"black\" d=\"M716.79,-71.8C720.49,-63.71 724.6,-54.76 728.37,-46.55\"/>\n",
       "<polygon fill=\"black\" stroke=\"black\" points=\"731.43,-48.25 732.42,-37.71 725.07,-45.34 731.43,-48.25\"/>\n",
       "</g>\n",
       "</g>\n",
       "</svg>\n"
      ],
      "text/plain": [
       "<graphviz.sources.Source at 0x7f8039613070>"
      ]
     },
     "metadata": {},
     "output_type": "display_data"
    }
   ],
   "source": [
    "for i in range(3):\n",
    "    tree = clf_rf.estimators_[i]\n",
    "    dot_data = export_graphviz(tree,\n",
    "                               feature_names=x_train.columns,  \n",
    "                               filled=True,  \n",
    "                               max_depth=2, \n",
    "                               impurity=False, \n",
    "                               proportion=True)\n",
    "    graph = graphviz.Source(dot_data)\n",
    "    display(graph)"
   ]
  },
  {
   "cell_type": "markdown",
   "id": "13975879",
   "metadata": {},
   "source": [
    "### Analysis of Model "
   ]
  },
  {
   "cell_type": "code",
   "execution_count": 29,
   "id": "e48ecd12",
   "metadata": {},
   "outputs": [
    {
     "data": {
      "image/png": "[encoded data removed]",
      "text/plain": [
       "<Figure size 432x288 with 2 Axes>"
      ]
     },
     "metadata": {
      "needs_background": "light"
     },
     "output_type": "display_data"
    }
   ],
   "source": [
    "y_pred = clf_rf.predict(x_test)\n",
    "\n",
    "# Create confusion matrix\n",
    "cm = confusion_matrix(y_test, y_pred)\n",
    "\n",
    "ConfusionMatrixDisplay(confusion_matrix=cm).plot();"
   ]
  },
  {
   "cell_type": "markdown",
   "id": "c684bd45",
   "metadata": {},
   "source": [
    "Our model correctly determined low usage of media 139 times out of 167. However, our model also was only successful 8/49 times when determining if something was high media usage. "
   ]
  },
  {
   "cell_type": "code",
   "execution_count": 30,
   "id": "23c6cf67",
   "metadata": {},
   "outputs": [
    {
     "name": "stdout",
     "output_type": "stream",
     "text": [
      "              precision    recall  f1-score   support\n",
      "\n",
      "        high       0.00      0.00      0.00        14\n",
      "         low       0.72      0.83      0.77       167\n",
      "      medium       0.23      0.16      0.19        49\n",
      "\n",
      "    accuracy                           0.63       230\n",
      "   macro avg       0.32      0.33      0.32       230\n",
      "weighted avg       0.57      0.63      0.60       230\n",
      "\n"
     ]
    }
   ],
   "source": [
    "print(classification_report(y_test, y_pred)) "
   ]
  },
  {
   "cell_type": "markdown",
   "id": "af8d2302",
   "metadata": {},
   "source": [
    "The precision is the ability of the model to correctly classify if media use is not low,medium, or high correctly.\n",
    "The recall is the ability for the model to to correctly find all positive instances. "
   ]
  },
  {
   "cell_type": "code",
   "execution_count": 31,
   "id": "ec049a73",
   "metadata": {},
   "outputs": [
    {
     "data": {
      "image/png": "[encoded data removed]",
      "text/plain": [
       "<Figure size 432x288 with 1 Axes>"
      ]
     },
     "metadata": {
      "needs_background": "light"
     },
     "output_type": "display_data"
    }
   ],
   "source": [
    "# Chart to show feature importance\n",
    "feature_importances = pd.Series(clf_rf.feature_importances_, index=x_train.columns).sort_values(ascending=False)\n",
    "feature_importances.plot.bar();"
   ]
  },
  {
   "cell_type": "markdown",
   "id": "28508cf6",
   "metadata": {},
   "source": [
    "As we can see negative affect is the most important feature in correlation to media use. A conclusion we can draw from this is negative affect and media use are more tightly related than other things like death anxiety and depression. This goes hand in hand with our question of the project. The feature importance in this model is very important because it helps us learn correlation of mental health and social media usage. Based on our random forest model we can say that there is a decently strong relationship between bad mental health (negative affect) and social media. "
   ]
  },
  {
   "cell_type": "markdown",
   "id": "ba7b397c",
   "metadata": {},
   "source": [
    "## Conclusion"
   ]
  },
  {
   "cell_type": "code",
   "execution_count": null,
   "id": "44d8998f",
   "metadata": {},
   "outputs": [],
   "source": []
  }
 ],
 "metadata": {
  "kernelspec": {
   "display_name": "Python 3 (ipykernel)",
   "language": "python",
   "name": "python3"
  },
  "language_info": {
   "codemirror_mode": {
    "name": "ipython",
    "version": 3
   },
   "file_extension": ".py",
   "mimetype": "text/x-python",
   "name": "python",
   "nbconvert_exporter": "python",
   "pygments_lexer": "ipython3",
   "version": "3.8.5"
  }
 },
 "nbformat": 4,
 "nbformat_minor": 5
}
